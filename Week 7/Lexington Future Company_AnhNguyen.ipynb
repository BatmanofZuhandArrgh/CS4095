{
 "cells": [
  {
   "cell_type": "code",
   "execution_count": 1,
   "metadata": {},
   "outputs": [],
   "source": [
    "# import Glop linear solver package\n",
    "from ortools.linear_solver import pywraplp as glp"
   ]
  },
  {
   "cell_type": "code",
   "execution_count": 2,
   "metadata": {},
   "outputs": [],
   "source": [
    "# input parameters\n",
    "Product = ['Chairs', 'Desks','Tables']   # list of product names\n",
    "Department = ['Fabrication', 'Assembly', 'Shipping'] # list of constraint names\n",
    "profit = [15.00, 24.00,18.00]                 # list of product profit coefficients\n",
    "Hours_req = [[4, 6, 2], [3, 5, 7], [3, 2, 4]] # 3 dimensional list of department constraint coefficients\n",
    "                                         # each sublist corresponds to a constraint\n",
    "Hours_rhs = [1850, 2400, 1500]               # list of board feet available for each type of wood\n",
    "\n",
    "Max_sales = [360, 300, 100]\n"
   ]
  },
  {
   "cell_type": "code",
   "execution_count": 3,
   "metadata": {},
   "outputs": [],
   "source": [
    "# initialize LP model object\n",
    "# first argument is the name of the model and second argument is the type of model\n",
    "\n",
    "mymodel = glp.Solver('Lexington', glp.Solver.GLOP_LINEAR_PROGRAMMING)\n"
   ]
  },
  {
   "cell_type": "code",
   "execution_count": 4,
   "metadata": {},
   "outputs": [],
   "source": [
    "# define decision variables\n",
    "dvar = list(range(len(Product)))         # create a list to store one variable for each product\n",
    "for i in range(len(Product)):            # loop to create a variable for each product\n",
    "    dvar[i] = mymodel.NumVar(0, Max_sales[i], Product[i])\n",
    "                                         # arguments: (lower bound, upper bound, name)\n",
    "    "
   ]
  },
  {
   "cell_type": "code",
   "execution_count": 5,
   "metadata": {},
   "outputs": [],
   "source": [
    "# define objective function\n",
    "TotProfit = mymodel.Objective()          # create objective function object\n",
    "TotProfit.SetMaximization()              # set direction of optimization\n",
    "for i in range(len(Product)):      # loop to set the objective coefficient for each product variable\n",
    "    TotProfit.SetCoefficient(dvar[i], profit[i])\n",
    "                                         # arguments: (variable, coefficient)"
   ]
  },
  {
   "cell_type": "code",
   "execution_count": 6,
   "metadata": {},
   "outputs": [],
   "source": [
    "# define constraints\n",
    "constr = list(range(len(Department)))          # create a list to store each constraint\n",
    "for w in range(len(Department)):               # loop to create each constraint\n",
    "    constr[w] = mymodel.Constraint(-mymodel.infinity(), Hours_rhs[w])\n",
    "                                         # arguments: (lower bound, upper bound)\n",
    "    for p in range(len(Product)):        # loop to set the constraint coefficient for each variable\n",
    "        constr[w].SetCoefficient(dvar[p], Hours_req[w][p]) #args: (variable, coefficient)\n",
    "        "
   ]
  },
  {
   "cell_type": "code",
   "execution_count": 7,
   "metadata": {},
   "outputs": [
    {
     "name": "stdout",
     "output_type": "stream",
     "text": [
      "Solution Status = 0\n",
      "Number of variables = 3\n",
      "Number of constraints = 3\n",
      "Optimal Solution:\n",
      "Total Profit = 8400.00\n",
      "Chairs = 0.00\n",
      "Desks = 275.00\n",
      "Tables = 100.00\n"
     ]
    }
   ],
   "source": [
    "# Solve the model and print optimal solution\n",
    "status = mymodel.Solve()                 # solve mymodel and display the solution\n",
    "\n",
    "print('Solution Status =', status)\n",
    "print('Number of variables =', mymodel.NumVariables())\n",
    "print('Number of constraints =', mymodel.NumConstraints())\n",
    "\n",
    "print('Optimal Solution:')\n",
    "\n",
    "# The objective value of the solution.\n",
    "print('Total Profit = %.2f' % TotProfit.Value())\n",
    "\n",
    "# The value of each variable in the solution.\n",
    "for p in range(len(Product)):\n",
    "    print('%s = %.2f' % (Product[p], dvar[p].solution_value()))\n",
    "    "
   ]
  },
  {
   "cell_type": "code",
   "execution_count": 8,
   "metadata": {},
   "outputs": [
    {
     "name": "stdout",
     "output_type": "stream",
     "text": [
      "Dept \t \t LHS \t \t RHS \t \t Slack \t Dual\n",
      "Fabrication \t 1850.0 \t 1850.0 \t 0.0 \t 4.0\n",
      "Assembly \t 2075.0 \t 2400.0 \t 325.0 \t -0.0\n",
      "Shipping \t 950.0 \t 1500.0 \t 550.0 \t -0.0\n"
     ]
    }
   ],
   "source": [
    "# display constraint Information\n",
    "print('Dept \\t \\t LHS \\t \\t RHS \\t \\t Slack \\t Dual')\n",
    "LHS = mymodel.ComputeConstraintActivities()\n",
    "for w in range(len(Department)):\n",
    "    slack = Hours_rhs[w] - LHS[w]\n",
    "    print('%s \\t %.1f \\t %.1f \\t %.1f \\t %.1f' % (Department[w], LHS[w], Hours_rhs[w], slack, constr[w].dual_value()))\n",
    "    "
   ]
  },
  {
   "cell_type": "code",
   "execution_count": 9,
   "metadata": {},
   "outputs": [],
   "source": [
    "#b. The binding constraint is Fabrication, where LHS == RHS\n",
    "# The marginal values of Fabrications is 4 hours, and for \n",
    "# both Assembly and Shipping are 0."
   ]
  },
  {
   "cell_type": "code",
   "execution_count": null,
   "metadata": {},
   "outputs": [],
   "source": []
  }
 ],
 "metadata": {
  "kernelspec": {
   "display_name": "Python 3",
   "language": "python",
   "name": "python3"
  },
  "language_info": {
   "codemirror_mode": {
    "name": "ipython",
    "version": 3
   },
   "file_extension": ".py",
   "mimetype": "text/x-python",
   "name": "python",
   "nbconvert_exporter": "python",
   "pygments_lexer": "ipython3",
   "version": "3.7.4"
  }
 },
 "nbformat": 4,
 "nbformat_minor": 2
}
