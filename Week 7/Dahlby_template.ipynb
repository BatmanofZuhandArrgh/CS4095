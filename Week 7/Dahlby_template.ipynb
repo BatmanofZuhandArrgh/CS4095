{
 "cells": [
  {
   "cell_type": "markdown",
   "metadata": {},
   "source": [
    "## Dahlby Trail Mix"
   ]
  },
  {
   "cell_type": "code",
   "execution_count": null,
   "metadata": {
    "scrolled": false
   },
   "outputs": [],
   "source": [
    "# import packages\n",
    "from ortools.linear_solver import pywraplp as glp"
   ]
  },
  {
   "cell_type": "code",
   "execution_count": null,
   "metadata": {},
   "outputs": [],
   "source": [
    "# input parameters\n",
    "ingredient = ['Seeds', 'Raisins', 'Flakes', 'Pecans', 'Walnuts']\n",
    "requirement = ['Vitamins', 'Minerals', 'Protein', 'Calories']\n",
    "cost = [4, 5, 3, 7, 6]                  # dollars per pound of ingredient\n",
    "req_amt = [20, 10, 15, 600]             # amount needed for each requirement\n",
    "supplied_amt = [[10, 20, 10, 30, 20],      # vitamins per gram of ingredient\n",
    "               [5, 7, 4, 9, 2],            # minerals per gram\n",
    "               [1, 4, 10, 2, 1],           # protein per gram\n",
    "               [500, 450, 160, 300, 500]]  # calories per gram"
   ]
  },
  {
   "cell_type": "code",
   "execution_count": null,
   "metadata": {},
   "outputs": [],
   "source": [
    "# initialize LP model object\n",
    "mymodel = glp.Solver('Dahlby', glp.Solver.GLOP_LINEAR_PROGRAMMING)"
   ]
  },
  {
   "cell_type": "code",
   "execution_count": null,
   "metadata": {},
   "outputs": [],
   "source": [
    "# define decision variables\n"
   ]
  },
  {
   "cell_type": "code",
   "execution_count": null,
   "metadata": {},
   "outputs": [],
   "source": [
    "# define objective function\n"
   ]
  },
  {
   "cell_type": "code",
   "execution_count": null,
   "metadata": {},
   "outputs": [],
   "source": [
    "# define requirement constraints\n"
   ]
  },
  {
   "cell_type": "code",
   "execution_count": null,
   "metadata": {},
   "outputs": [],
   "source": [
    "# Solve the model and print optimal solution\n",
    "status = mymodel.Solve()\n",
    "print('Solution Status =', status)\n",
    "print('Number of variables =', mymodel.NumVariables())\n",
    "print('Number of constraints =', mymodel.NumConstraints())\n",
    "\n",
    "print('Optimal Solution:')\n",
    "\n",
    "# The objective value of the solution.\n",
    "print('Total Cost = %.2f' % TotCost.Value())\n",
    "\n",
    "# The value of each variable in the solution.\n",
    "for i in range(len(ingredient)):\n",
    "    print('%s = %.2f' % (ingredient[i], dvar[i].solution_value()))"
   ]
  },
  {
   "cell_type": "code",
   "execution_count": null,
   "metadata": {},
   "outputs": [],
   "source": [
    "# display constraint Information\n",
    "print('Constraint \\t LHS \\t RHS \\t Slack \\t Dual')\n",
    "LHS = mymodel.ComputeConstraintActivities()\n",
    "for r in range(len(requirement)):\n",
    "    slack = req_amt[r] - LHS[r]\n",
    "    print('%s \\t %.1f \\t %.1f \\t %.1f \\t %.4f' % (requirement[r], LHS[r], req_amt[r], slack, constr[r].dual_value()))"
   ]
  }
 ],
 "metadata": {
  "kernelspec": {
   "display_name": "Python 3",
   "language": "python",
   "name": "python3"
  },
  "language_info": {
   "codemirror_mode": {
    "name": "ipython",
    "version": 3
   },
   "file_extension": ".py",
   "mimetype": "text/x-python",
   "name": "python",
   "nbconvert_exporter": "python",
   "pygments_lexer": "ipython3",
   "version": "3.7.4"
  }
 },
 "nbformat": 4,
 "nbformat_minor": 2
}
