{
 "cells": [
  {
   "cell_type": "markdown",
   "metadata": {},
   "source": [
    "## Glop Optimization with Lists: Sidneyville Manufacturing"
   ]
  },
  {
   "cell_type": "code",
   "execution_count": 2,
   "metadata": {
    "scrolled": false
   },
   "outputs": [],
   "source": [
    "# import Glop linear solver package\n",
    "from ortools.linear_solver import pywraplp as glp"
   ]
  },
  {
   "cell_type": "code",
   "execution_count": 3,
   "metadata": {},
   "outputs": [],
   "source": [
    "# input parameters\n",
    "product = ['Roll_Top', 'Regular']        # list of product names\n",
    "wood = ['Fabrication', 'Cedar', 'Maple']        # list of constraint names\n",
    "profit = [115.00, 90.00]                 # list of product profit coefficients\n",
    "wood_req = [[10, 20], [4, 16], [15, 10]] # two dimensional list of wood constraint coefficients\n",
    "                                         # each sublist corresponds to a constraint\n",
    "wood_rhs = [200, 128, 220]               # list of board feet available for each type of wood"
   ]
  },
  {
   "cell_type": "code",
   "execution_count": 4,
   "metadata": {},
   "outputs": [],
   "source": [
    "# initialize LP model object\n",
    "# first argument is the name of the model and second argument is the type of model\n",
    "\n",
    "mymodel = glp.Solver('Sidneyville', glp.Solver.GLOP_LINEAR_PROGRAMMING)"
   ]
  },
  {
   "cell_type": "code",
   "execution_count": 13,
   "metadata": {},
   "outputs": [
    {
     "name": "stdout",
     "output_type": "stream",
     "text": [
      "Roll_Top\n"
     ]
    }
   ],
   "source": [
    "# define decision variables\n",
    "dvar = list(range(len(product)))         # create a list to store one variable for each product\n",
    "for i in range(len(product)):            # loop to create a variable for each product\n",
    "    dvar[i] = mymodel.NumVar(0, mymodel.infinity(), product[i])\n",
    "                                         # arguments: (lower bound, upper bound, name)\n",
    "print (dvar[0])"
   ]
  },
  {
   "cell_type": "code",
   "execution_count": 6,
   "metadata": {},
   "outputs": [],
   "source": [
    "# define objective function\n",
    "TotProfit = mymodel.Objective()          # create objective function object\n",
    "TotProfit.SetMaximization()              # set direction of optimization\n",
    "for i in range(len(product)):      # loop to set the objective coefficient for each product variable\n",
    "    TotProfit.SetCoefficient(dvar[i], profit[i])\n",
    "                                         # arguments: (variable, coefficient)"
   ]
  },
  {
   "cell_type": "code",
   "execution_count": 7,
   "metadata": {},
   "outputs": [],
   "source": [
    "# define constraints\n",
    "constr = list(range(len(wood)))          # create a list to store each constraint\n",
    "for w in range(len(wood)):               # loop to create each constraint\n",
    "    constr[w] = mymodel.Constraint(-mymodel.infinity(), wood_rhs[w])\n",
    "                                         # arguments: (lower bound, upper bound)\n",
    "    for p in range(len(product)):        # loop to set the constraint coefficient for each variable\n",
    "        constr[w].SetCoefficient(dvar[p], wood_req[w][p]) #args: (variable, coefficient)"
   ]
  },
  {
   "cell_type": "code",
   "execution_count": 8,
   "metadata": {},
   "outputs": [
    {
     "name": "stdout",
     "output_type": "stream",
     "text": [
      "Solution Status = 0\n",
      "Number of variables = 2\n",
      "Number of constraints = 3\n",
      "Optimal Solution:\n",
      "Total Profit = 1740.00\n",
      "Roll_Top = 12.00\n",
      "Regular = 4.00\n"
     ]
    }
   ],
   "source": [
    "# Solve the model and print optimal solution\n",
    "status = mymodel.Solve()                 # solve mymodel and display the solution\n",
    "\n",
    "print('Solution Status =', status)\n",
    "print('Number of variables =', mymodel.NumVariables())\n",
    "print('Number of constraints =', mymodel.NumConstraints())\n",
    "\n",
    "print('Optimal Solution:')\n",
    "\n",
    "# The objective value of the solution.\n",
    "print('Total Profit = %.2f' % TotProfit.Value())\n",
    "\n",
    "# The value of each variable in the solution.\n",
    "for p in range(len(product)):\n",
    "    print('%s = %.2f' % (product[p], dvar[p].solution_value()))"
   ]
  },
  {
   "cell_type": "code",
   "execution_count": 9,
   "metadata": {},
   "outputs": [
    {
     "name": "stdout",
     "output_type": "stream",
     "text": [
      "Wood \t LHS \t RHS \t Slack \t Dual\n",
      "Pine \t 200.0 \t 200.0 \t 0.0 \t 1.0\n",
      "Cedar \t 112.0 \t 128.0 \t 16.0 \t -0.0\n",
      "Maple \t 220.0 \t 220.0 \t -0.0 \t 7.0\n"
     ]
    }
   ],
   "source": [
    "# display constraint Information\n",
    "print('Wood \\t LHS \\t RHS \\t Slack \\t Dual')\n",
    "LHS = mymodel.ComputeConstraintActivities()\n",
    "for w in range(len(wood)):\n",
    "    slack = wood_rhs[w] - LHS[w]\n",
    "    print('%s \\t %.1f \\t %.1f \\t %.1f \\t %.1f' % (wood[w], LHS[w], wood_rhs[w], slack, constr[w].dual_value()))"
   ]
  },
  {
   "cell_type": "code",
   "execution_count": null,
   "metadata": {},
   "outputs": [],
   "source": []
  }
 ],
 "metadata": {
  "kernelspec": {
   "display_name": "Python 3",
   "language": "python",
   "name": "python3"
  },
  "language_info": {
   "codemirror_mode": {
    "name": "ipython",
    "version": 3
   },
   "file_extension": ".py",
   "mimetype": "text/x-python",
   "name": "python",
   "nbconvert_exporter": "python",
   "pygments_lexer": "ipython3",
   "version": "3.7.4"
  }
 },
 "nbformat": 4,
 "nbformat_minor": 2
}
