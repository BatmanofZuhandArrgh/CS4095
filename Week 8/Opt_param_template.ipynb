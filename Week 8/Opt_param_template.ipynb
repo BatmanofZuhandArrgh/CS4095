{
 "cells": [
  {
   "cell_type": "markdown",
   "metadata": {},
   "source": [
    "## Optimization Param Analysis: Sidneyville Manufacturing"
   ]
  },
  {
   "cell_type": "code",
   "execution_count": 1,
   "metadata": {
    "scrolled": false
   },
   "outputs": [],
   "source": [
    "# import packages\n",
    "from ortools.linear_solver import pywraplp as glp\n",
    "import matplotlib.pyplot as plt"
   ]
  },
  {
   "cell_type": "code",
   "execution_count": 2,
   "metadata": {},
   "outputs": [],
   "source": [
    "# input parameters\n",
    "desk = ['Roll_Top', 'Regular']  # list of desk names\n",
    "wood = ['Pine', 'Cedar', 'Maple']  # list of constraint names\n",
    "profit = [115.00, 90.00]           # list of product profit coefficients\n",
    "wood_req = [[10, 20], #pine              # two dimensional list of wood constraint coefficients\n",
    "            [ 4, 16], #cedar\n",
    "            [15, 10]] #maple\n",
    "wood_avail = [200, 128, 220]         # list of board feet available for each type of wood"
   ]
  },
  {
   "cell_type": "code",
   "execution_count": 3,
   "metadata": {},
   "outputs": [],
   "source": [
    "# initialize LP model object\n",
    "mymodel = glp.Solver('Sidneyville', glp.Solver.GLOP_LINEAR_PROGRAMMING)"
   ]
  },
  {
   "cell_type": "code",
   "execution_count": 4,
   "metadata": {},
   "outputs": [],
   "source": [
    "# define decision variables\n",
    "quantity = list(range(len(desk)))\n",
    "for j in range(len(desk)):\n",
    "    quantity[j] = mymodel.NumVar(0, mymodel.infinity(), desk[j])"
   ]
  },
  {
   "cell_type": "code",
   "execution_count": 5,
   "metadata": {},
   "outputs": [],
   "source": [
    "# define objective function\n",
    "TotProfit = mymodel.Objective()\n",
    "TotProfit.SetMaximization()\n",
    "for j in range(len(desk)):\n",
    "    TotProfit.SetCoefficient(quantity[j], profit[j])"
   ]
  },
  {
   "cell_type": "code",
   "execution_count": 6,
   "metadata": {},
   "outputs": [],
   "source": [
    "# define constraints\n",
    "constr = list(range(len(wood)))\n",
    "for i in range(len(wood)):\n",
    "    constr[i] = mymodel.Constraint(-mymodel.infinity(), wood_avail[i])\n",
    "    for j in range(len(desk)):\n",
    "        constr[i].SetCoefficient(quantity[j], wood_req[i][j])"
   ]
  },
  {
   "cell_type": "code",
   "execution_count": 7,
   "metadata": {},
   "outputs": [
    {
     "name": "stdout",
     "output_type": "stream",
     "text": [
      "Solution Status = 0\n",
      "Number of variables = 2\n",
      "Number of constraints = 3\n",
      "Optimal Solution:\n",
      "Total Profit = 1740.00\n",
      "Roll_Top = 12.00\n",
      "Regular = 4.00\n"
     ]
    }
   ],
   "source": [
    "# Solve the model and print optimal solution\n",
    "status = mymodel.Solve()                 # solve mymodel and display the solution\n",
    "\n",
    "print('Solution Status =', status)\n",
    "print('Number of variables =', mymodel.NumVariables())\n",
    "print('Number of constraints =', mymodel.NumConstraints())\n",
    "\n",
    "print('Optimal Solution:')\n",
    "\n",
    "# The objective value of the solution.\n",
    "print('Total Profit = %.2f' % TotProfit.Value())\n",
    "\n",
    "# The value of each variable in the solution.\n",
    "for j in range(len(desk)):\n",
    "    print('%s = %.2f' % (desk[j], quantity[j].solution_value()))"
   ]
  },
  {
   "cell_type": "code",
   "execution_count": 8,
   "metadata": {},
   "outputs": [
    {
     "name": "stdout",
     "output_type": "stream",
     "text": [
      "Wood \t LHS \t RHS \t Slack \t Dual\n",
      "Pine \t 200.0 \t 200.0 \t  0.00 \t  1.00\n",
      "Cedar \t 112.0 \t 128.0 \t 16.00 \t -0.00\n",
      "Maple \t 220.0 \t 220.0 \t -0.00 \t  7.00\n"
     ]
    }
   ],
   "source": [
    "# display constraint Information\n",
    "print('Wood \\t LHS \\t RHS \\t Slack \\t Dual')\n",
    "LHS = mymodel.ComputeConstraintActivities()\n",
    "for i in range(len(wood)):\n",
    "    slack = wood_avail[i] - LHS[i]\n",
    "    print('%s \\t %.1f \\t %.1f \\t %5.2f \\t %5.2f' % (wood[i], LHS[i], wood_avail[i], slack, constr[i].dual_value()))"
   ]
  },
  {
   "cell_type": "code",
   "execution_count": null,
   "metadata": {},
   "outputs": [],
   "source": [
    "# param analysis Pine available (200, 230)\n",
    "pine_avail = list(range(200,230))\n",
    "TP_pine = list(range(31))"
   ]
  },
  {
   "cell_type": "code",
   "execution_count": null,
   "metadata": {},
   "outputs": [],
   "source": [
    "fig, ax = plt.subplots(1, 1, figsize = (3,3))\n",
    "ax.grid(True)\n",
    "ax.plot(pine_avail, TP_pine)\n",
    "plt.show()"
   ]
  },
  {
   "cell_type": "code",
   "execution_count": null,
   "metadata": {},
   "outputs": [],
   "source": [
    "# param analysis maple available (220, 320)\n"
   ]
  },
  {
   "cell_type": "code",
   "execution_count": null,
   "metadata": {},
   "outputs": [],
   "source": [
    "fig, ax = plt.subplots(1, 1, figsize = (3,3))\n",
    "ax.grid(True)\n",
    "ax.plot(maple_avail, TP_maple)\n",
    "plt.show()"
   ]
  },
  {
   "cell_type": "code",
   "execution_count": null,
   "metadata": {},
   "outputs": [],
   "source": [
    "# param analysis rolltop profit (0, 115)\n"
   ]
  },
  {
   "cell_type": "code",
   "execution_count": null,
   "metadata": {},
   "outputs": [],
   "source": [
    "fig, ax = plt.subplots(1, 1, figsize = (3,3))\n",
    "ax.grid(True)\n",
    "ax.plot(range(116), TP_rolltop)\n",
    "plt.show()"
   ]
  }
 ],
 "metadata": {
  "kernelspec": {
   "display_name": "Python 3",
   "language": "python",
   "name": "python3"
  },
  "language_info": {
   "codemirror_mode": {
    "name": "ipython",
    "version": 3
   },
   "file_extension": ".py",
   "mimetype": "text/x-python",
   "name": "python",
   "nbconvert_exporter": "python",
   "pygments_lexer": "ipython3",
   "version": "3.7.4"
  }
 },
 "nbformat": 4,
 "nbformat_minor": 2
}
