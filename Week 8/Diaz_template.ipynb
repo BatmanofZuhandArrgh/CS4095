{
 "cells": [
  {
   "cell_type": "markdown",
   "metadata": {},
   "source": [
    "## Diaz Coffee Co."
   ]
  },
  {
   "cell_type": "code",
   "execution_count": 2,
   "metadata": {
    "scrolled": false
   },
   "outputs": [],
   "source": [
    "# import packages\n",
    "from ortools.linear_solver import pywraplp as glp"
   ]
  },
  {
   "cell_type": "code",
   "execution_count": 3,
   "metadata": {},
   "outputs": [],
   "source": [
    "# input parameters\n",
    "coffee = ['Brazilian', 'Colombian', 'Peruvian']\n",
    "cost = [0.5, 0.6, 0.7]                     # dollars per pound of coffee beans\n",
    "aroma = [75, 65, 85]                       # aroma rating for each coffee bean\n",
    "available = [1500, 1200, 2000]             # thousands of pounds available for each coffee bean\n",
    "target_aroma = 78                          # minimum aroma rating for the blend\n",
    "pounds_req = 4000                          # minimum total pounds of coffee (thousands)\n",
    "min_colombian = 0.20                       # minimum percentage of Colombian beans in the blend"
   ]
  },
  {
   "cell_type": "code",
   "execution_count": 4,
   "metadata": {},
   "outputs": [],
   "source": [
    "# initialize LP model object\n",
    "mymodel = glp.Solver('Diaz', glp.Solver.GLOP_LINEAR_PROGRAMMING)"
   ]
  },
  {
   "cell_type": "code",
   "execution_count": 5,
   "metadata": {},
   "outputs": [],
   "source": [
    "# define decision variables\n",
    "dvar = list(range(len(coffee)))\n",
    "for c in range(len(coffee)):\n",
    "    dvar[c] = mymodel.NumVar (0, mymodel.infinity(),coffee[c])\n",
    "    "
   ]
  },
  {
   "cell_type": "code",
   "execution_count": 6,
   "metadata": {},
   "outputs": [],
   "source": [
    "# define objective function\n",
    "TotCost = mymodel.Objective()\n",
    "TotCost.SetMinimization()\n",
    "for c in range(len(coffee)):\n",
    "    TotCost.SetCoefficient(dvar[c], cost[c])\n",
    "    "
   ]
  },
  {
   "cell_type": "code",
   "execution_count": 7,
   "metadata": {},
   "outputs": [],
   "source": [
    "# define constraints\n",
    "constr = list(range(len(coffee)+3))\n",
    "constr[0] = mymodel.Constraint(0, mymodel.infinity(), 'Aroma    ')      # Aroma constraint\n",
    "for c in range(len(coffee)):\n",
    "    constr[0].SetCoefficient(dvar[c], aroma[c] - target_aroma)\n",
    "    \n",
    "constr[1] = mymodel.Constraint(0, mymodel.infinity(), 'Colombian')  # Colombian Constraint\n",
    "for c in range(len(coffee)):\n",
    "    if coffee[c] is 'Colombian': constr[1].SetCoefficient(dvar[c], 1.0 - min_colombian)\n",
    "    else: constr[1].SetCoefficient(dvar[c], -min_colombian)\n",
    "\n",
    "constr[2] = mymodel.Constraint(pounds_req, mymodel.infinity(), 'Total Pounds')    # Total constraint\n",
    "for c in range(len(coffee)): constr[2].SetCoefficient(dvar[c], 1.0)\n",
    "        \n",
    "for c in range(len(coffee)):                                         # available supply constraints\n",
    "    constr[3+c] = mymodel.Constraint(-mymodel.infinity(), available[c], coffee[c])\n",
    "    constr[3+c].SetCoefficient(dvar[c], 1.0)"
   ]
  },
  {
   "cell_type": "code",
   "execution_count": 8,
   "metadata": {},
   "outputs": [
    {
     "name": "stdout",
     "output_type": "stream",
     "text": [
      "Solution Status = 0\n",
      "Number of variables = 3\n",
      "Number of constraints = 6\n",
      "Optimal Solution:\n",
      "Total Cost = 2480.00\n",
      "Brazilian = 1200.00\n",
      "Colombian = 800.00\n",
      "Peruvian = 2000.00\n"
     ]
    }
   ],
   "source": [
    "# Solve the model and print optimal solution\n",
    "status = mymodel.Solve()\n",
    "print('Solution Status =', status)\n",
    "print('Number of variables =', mymodel.NumVariables())\n",
    "print('Number of constraints =', mymodel.NumConstraints())\n",
    "\n",
    "print('Optimal Solution:')\n",
    "\n",
    "# The objective value of the solution.\n",
    "print('Total Cost = %.2f' % TotCost.Value())\n",
    "\n",
    "# The value of each variable in the solution.\n",
    "for c in range(len(coffee)):\n",
    "    print('%s = %.2f' % (coffee[c], dvar[c].solution_value()))"
   ]
  },
  {
   "cell_type": "code",
   "execution_count": 10,
   "metadata": {},
   "outputs": [
    {
     "name": "stdout",
     "output_type": "stream",
     "text": [
      "Constraint \t LHS \t RHS \t Slack \t Dual\n",
      "The length is  6\n",
      "Aroma     \t 0.0 \t 0.0 \t 0.0 \t 0.0200\n",
      "Colombian \t -0.0 \t 0.0 \t -0.0 \t 0.3000\n",
      "Total Pounds \t 4000.0 \t 4000.0 \t 0.0 \t 0.6200\n",
      "Brazilian \t 1200.0 \t 1500.0 \t 300.0 \t 0.0000\n",
      "Colombian \t 800.0 \t 1200.0 \t 400.0 \t 0.0000\n",
      "Peruvian \t 2000.0 \t 2000.0 \t 0.0 \t 0.0000\n"
     ]
    }
   ],
   "source": [
    "# display constraint Information\n",
    "print('Constraint \\t LHS \\t RHS \\t Slack \\t Dual')\n",
    "LHS = mymodel.ComputeConstraintActivities()\n",
    "print(\"The length is \", len(LHS))\n",
    "for c in range(mymodel.NumConstraints()):\n",
    "    if c < 3:\n",
    "        slack = LHS[c] - constr[c].Lb()\n",
    "        print('%s \\t %.1f \\t %.1f \\t %.1f \\t %.4f' % (constr[c].name(), LHS[c], constr[c].Lb(), slack, constr[c].dual_value()))\n",
    "    else:\n",
    "        slack = constr[c].Ub() - LHS[c]\n",
    "        print('%s \\t %.1f \\t %.1f \\t %.1f \\t %.4f' % (constr[c].name(), LHS[c], constr[c].Ub(), slack, constr[c].dual_value()))"
   ]
  },
  {
   "cell_type": "code",
   "execution_count": null,
   "metadata": {},
   "outputs": [],
   "source": []
  }
 ],
 "metadata": {
  "kernelspec": {
   "display_name": "Python 3",
   "language": "python",
   "name": "python3"
  },
  "language_info": {
   "codemirror_mode": {
    "name": "ipython",
    "version": 3
   },
   "file_extension": ".py",
   "mimetype": "text/x-python",
   "name": "python",
   "nbconvert_exporter": "python",
   "pygments_lexer": "ipython3",
   "version": "3.7.4"
  }
 },
 "nbformat": 4,
 "nbformat_minor": 2
}
