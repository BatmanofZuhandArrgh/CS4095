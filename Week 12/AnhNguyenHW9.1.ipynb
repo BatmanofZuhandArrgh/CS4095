{
 "cells": [
  {
   "cell_type": "code",
   "execution_count": 1,
   "metadata": {},
   "outputs": [],
   "source": [
    "# import Glop linear solver package\n",
    "from ortools.linear_solver import pywraplp as glp"
   ]
  },
  {
   "cell_type": "code",
   "execution_count": 2,
   "metadata": {},
   "outputs": [],
   "source": [
    "# input parameters\n",
    "node = [1, 2, 3, 4, 5, 6]                      # nodes\n",
    "edge = ['A','B','C','D','E','F','G','H','I','J','K','L'] # edges\n",
    "orig = [1, 1, 3, 2, 2, 3, 5, 6, 5, 4, 1, 6] # origin of each edge\n",
    "dest = [2, 3, 2, 3, 5, 5, 6, 5, 7, 6, 4, 7] # destination of each edge\n",
    "cost = [7, 9, 3, 3, 5, 4, 2, 2, 6, 3, 18, 3] # cost of each edge\n",
    "flow = [-1, 0, 0, 0, 0, 0, 1]\n"
   ]
  },
  {
   "cell_type": "code",
   "execution_count": 3,
   "metadata": {},
   "outputs": [],
   "source": [
    "# initialize LP model object\n",
    "mymodel = glp.Solver('Lewisburg-Paducah', glp.Solver.GLOP_LINEAR_PROGRAMMING)\n"
   ]
  },
  {
   "cell_type": "code",
   "execution_count": 4,
   "metadata": {},
   "outputs": [
    {
     "name": "stdout",
     "output_type": "stream",
     "text": [
      "[12, 13, 32, 23, 25, 35, 56, 65, 57, 46, 14, 67]\n"
     ]
    }
   ],
   "source": [
    "# create list of path/edge variables\n",
    "path = list(range(len(edge)))\n",
    "for i in range(len(edge)):\n",
    "    path[i] = mymodel.NumVar(0,1, str(orig[i])+str(dest[i]))\n",
    "\n",
    "print(path)"
   ]
  },
  {
   "cell_type": "code",
   "execution_count": 5,
   "metadata": {},
   "outputs": [
    {
     "name": "stdout",
     "output_type": "stream",
     "text": [
      "12 7.0\n",
      "13 9.0\n",
      "32 3.0\n",
      "23 3.0\n",
      "25 5.0\n",
      "35 4.0\n",
      "56 2.0\n",
      "65 2.0\n",
      "57 6.0\n",
      "46 3.0\n",
      "14 18.0\n",
      "67 3.0\n"
     ]
    }
   ],
   "source": [
    "# define objective function\n",
    "TotCost = mymodel.Objective()\n",
    "TotCost.SetMinimization()\n",
    "for i in range(len(edge)):\n",
    "    TotCost.SetCoefficient(path[i], cost[i])\n",
    "    \n",
    "for i in range(len(edge)):\n",
    "    print(path[i], TotCost.GetCoefficient(path[i]))"
   ]
  },
  {
   "cell_type": "code",
   "execution_count": 6,
   "metadata": {},
   "outputs": [],
   "source": [
    "# define flow constraints\n",
    "flow_constr = list(range(len(node)))\n",
    "for j in range(len(node)):\n",
    "    flow_constr[j] = mymodel.Constraint(flow[j], flow[j])\n",
    "    for i in range(len(edge)):\n",
    "        if dest[i] == node[j]:\n",
    "            flow_constr[j].SetCoefficient(path[i], 1)\n",
    "        elif orig[i] == node[j]:\n",
    "            flow_constr[j].SetCoefficient(path[i], -1)"
   ]
  },
  {
   "cell_type": "code",
   "execution_count": 7,
   "metadata": {},
   "outputs": [
    {
     "name": "stdout",
     "output_type": "stream",
     "text": [
      "Solution Status = 0\n",
      "Number of variables = 12\n",
      "Number of constraints = 6\n",
      "Optimal Solution:\n",
      "Total Cost = 17.00\n"
     ]
    }
   ],
   "source": [
    "# Solve the model and print optimal solution\n",
    "status = mymodel.Solve()                 # solve mymodel and display the solution\n",
    "\n",
    "print('Solution Status =', status)\n",
    "print('Number of variables =', mymodel.NumVariables())\n",
    "print('Number of constraints =', mymodel.NumConstraints())\n",
    "\n",
    "print('Optimal Solution:')\n",
    "\n",
    "# The objective value of the solution.\n",
    "print('Total Cost = %.2f' % TotCost.Value())"
   ]
  },
  {
   "cell_type": "code",
   "execution_count": 8,
   "metadata": {},
   "outputs": [
    {
     "name": "stdout",
     "output_type": "stream",
     "text": [
      "12 7.0\n",
      "25 5.0\n",
      "56 2.0\n",
      "67 3.0\n"
     ]
    }
   ],
   "source": [
    "# display solution\n",
    "for i in range(len(edge)):\n",
    "    if path[i].solution_value() == 1:\n",
    "        print(path[i], TotCost.GetCoefficient(path[i]))"
   ]
  },
  {
   "cell_type": "code",
   "execution_count": null,
   "metadata": {},
   "outputs": [],
   "source": []
  }
 ],
 "metadata": {
  "kernelspec": {
   "display_name": "Python 3",
   "language": "python",
   "name": "python3"
  },
  "language_info": {
   "codemirror_mode": {
    "name": "ipython",
    "version": 3
   },
   "file_extension": ".py",
   "mimetype": "text/x-python",
   "name": "python",
   "nbconvert_exporter": "python",
   "pygments_lexer": "ipython3",
   "version": "3.7.6"
  }
 },
 "nbformat": 4,
 "nbformat_minor": 4
}
