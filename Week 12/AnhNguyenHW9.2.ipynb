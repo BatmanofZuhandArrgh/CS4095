{
 "cells": [
  {
   "cell_type": "code",
   "execution_count": 1,
   "metadata": {},
   "outputs": [],
   "source": [
    "# import Glop linear solver package\n",
    "from ortools.linear_solver import pywraplp as glp"
   ]
  },
  {
   "cell_type": "code",
   "execution_count": 2,
   "metadata": {},
   "outputs": [],
   "source": [
    "# input parameters\n",
    "node = [1, 2, 3, 4, 5, 6, 7]                      # nodes\n",
    "edge = ['A','B','C','D','E','F','G','H','I','J','K','L'] # edges\n",
    "orig = [1, 1, 3, 4, 2, 2, 5, 5, 3, 5, 7, 6] # origin of each edge\n",
    "dest = [2, 5, 1, 2, 7, 5, 4, 3, 6, 6, 4, 7] # destination of each edge\n",
    "cost = [20, 25, 20, 30, 45, 30, 15, 25, 35, 28, 27, 12] # cost of each edge\n",
    "flow = [8, -5, -3, 3, -2, 5, -6]\n"
   ]
  },
  {
   "cell_type": "code",
   "execution_count": 3,
   "metadata": {},
   "outputs": [],
   "source": [
    "# initialize LP model object\n",
    "mymodel = glp.Solver('Question 2', glp.Solver.GLOP_LINEAR_PROGRAMMING)\n"
   ]
  },
  {
   "cell_type": "code",
   "execution_count": 4,
   "metadata": {},
   "outputs": [
    {
     "name": "stdout",
     "output_type": "stream",
     "text": [
      "[12, 15, 31, 42, 27, 25, 54, 53, 36, 56, 74, 67]\n"
     ]
    }
   ],
   "source": [
    "# create list of path/edge variables\n",
    "path = list(range(len(edge)))\n",
    "for i in range(len(edge)):\n",
    "    path[i] = mymodel.NumVar(0,mymodel.infinity(), str(orig[i])+str(dest[i]))\n",
    "\n",
    "print(path)"
   ]
  },
  {
   "cell_type": "code",
   "execution_count": 5,
   "metadata": {},
   "outputs": [
    {
     "name": "stdout",
     "output_type": "stream",
     "text": [
      "12 20.0\n",
      "15 25.0\n",
      "31 20.0\n",
      "42 30.0\n",
      "27 45.0\n",
      "25 30.0\n",
      "54 15.0\n",
      "53 25.0\n",
      "36 35.0\n",
      "56 28.0\n",
      "74 27.0\n",
      "67 12.0\n"
     ]
    }
   ],
   "source": [
    "# define objective function\n",
    "TotCost = mymodel.Objective()\n",
    "TotCost.SetMinimization()\n",
    "for i in range(len(edge)):\n",
    "    TotCost.SetCoefficient(path[i], cost[i])\n",
    "    \n",
    "for i in range(len(edge)):\n",
    "    print(path[i], TotCost.GetCoefficient(path[i]))"
   ]
  },
  {
   "cell_type": "code",
   "execution_count": 6,
   "metadata": {},
   "outputs": [],
   "source": [
    "# define flow constraints\n",
    "flow_constr = list(range(len(node)))\n",
    "for j in range(len(node)):\n",
    "    flow_constr[j] = mymodel.Constraint(flow[j], flow[j])\n",
    "    for i in range(len(edge)):\n",
    "        if dest[i] == node[j]:\n",
    "            flow_constr[j].SetCoefficient(path[i], 1)\n",
    "        elif orig[i] == node[j]:\n",
    "            flow_constr[j].SetCoefficient(path[i], -1)"
   ]
  },
  {
   "cell_type": "code",
   "execution_count": 7,
   "metadata": {},
   "outputs": [
    {
     "name": "stdout",
     "output_type": "stream",
     "text": [
      "Solution Status = 0\n",
      "Number of variables = 12\n",
      "Number of constraints = 7\n",
      "Optimal Solution:\n",
      "Total Cost = 917.00\n"
     ]
    }
   ],
   "source": [
    "# Solve the model and print optimal solution\n",
    "status = mymodel.Solve()                 # solve mymodel and display the solution\n",
    "\n",
    "print('Solution Status =', status)\n",
    "print('Number of variables =', mymodel.NumVariables())\n",
    "print('Number of constraints =', mymodel.NumConstraints())\n",
    "\n",
    "print('Optimal Solution:')\n",
    "\n",
    "# The objective value of the solution.\n",
    "print('Total Cost = %.2f' % TotCost.Value())"
   ]
  },
  {
   "cell_type": "code",
   "execution_count": 19,
   "metadata": {},
   "outputs": [
    {
     "name": "stdout",
     "output_type": "stream",
     "text": [
      "Location 3 moving 8.00 units to Location 1 at the cost of 160.00\n",
      "Location 4 moving 3.00 units to Location 2 at the cost of 90.00\n",
      "Location 2 moving 8.00 units to Location 5 at the cost of 240.00\n",
      "Location 5 moving 5.00 units to Location 3 at the cost of 125.00\n",
      "Location 5 moving 5.00 units to Location 6 at the cost of 140.00\n",
      "Location 7 moving 6.00 units to Location 4 at the cost of 162.00\n"
     ]
    }
   ],
   "source": [
    "# display solution\n",
    "for i in range(len(edge)):\n",
    "    if path[i].solution_value() != 0:\n",
    "        print('Location %s moving %.2f units to Location %s at the cost of %.2f' % (str(orig[i]), path[i].solution_value(), str(dest[i]), (path[i].solution_value()*cost[i])))\n",
    "              "
   ]
  },
  {
   "cell_type": "code",
   "execution_count": null,
   "metadata": {},
   "outputs": [],
   "source": []
  }
 ],
 "metadata": {
  "kernelspec": {
   "display_name": "Python 3",
   "language": "python",
   "name": "python3"
  },
  "language_info": {
   "codemirror_mode": {
    "name": "ipython",
    "version": 3
   },
   "file_extension": ".py",
   "mimetype": "text/x-python",
   "name": "python",
   "nbconvert_exporter": "python",
   "pygments_lexer": "ipython3",
   "version": "3.7.6"
  }
 },
 "nbformat": 4,
 "nbformat_minor": 4
}
