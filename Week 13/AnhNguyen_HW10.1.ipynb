{
 "cells": [
  {
   "cell_type": "code",
   "execution_count": 1,
   "metadata": {},
   "outputs": [],
   "source": [
    "# import Glop linear solver package\n",
    "from ortools.linear_solver import pywraplp as glp"
   ]
  },
  {
   "cell_type": "code",
   "execution_count": 2,
   "metadata": {},
   "outputs": [],
   "source": [
    "# model parameters\n",
    "project = ['Limited Warehouse Expansion', 'Extensive Warehouse Expansion', 'Test Market New Product', 'Advertising Campaign', \n",
    "    'Basic Research', 'Purchase New Equipment']\n",
    "year = ['Year1','Year2','Year3']\n",
    "npv = [4, 6, 10.5, 4, 8, 3]  # net present value of each project in thousand $\n",
    "budget = [10.5, 7, 8.75]  # capital budget available each year in thousand $\n",
    "cap_req = [[3, 2.5, 6, 2, 5, 1],  # capital requirement for each project in Year 1\n",
    "           [1, 3.5, 4, 1.5, 1, 0.5],  # Year 2\n",
    "           [4, 3.5, 5, 1.8, 4, 0.9]]  # Year 3"
   ]
  },
  {
   "cell_type": "code",
   "execution_count": 3,
   "metadata": {},
   "outputs": [],
   "source": [
    "# initialize model object\n",
    "mymodel = glp.Solver('Capital Budget', glp.Solver.CBC_MIXED_INTEGER_PROGRAMMING)\n",
    "\n",
    "\n"
   ]
  },
  {
   "cell_type": "code",
   "execution_count": 4,
   "metadata": {},
   "outputs": [
    {
     "name": "stdout",
     "output_type": "stream",
     "text": [
      "select =  [Limited Warehouse Expansion, Extensive Warehouse Expansion, Test Market New Product, Advertising Campaign, Basic Research, Purchase New Equipment]\n"
     ]
    }
   ],
   "source": [
    "# create decision variables\n",
    "select = list(range(len(project)))\n",
    "for j in range(len(project)):\n",
    "    select[j] = mymodel.IntVar(0,1, project[j])\n",
    "    \n",
    "print('select = ', select)"
   ]
  },
  {
   "cell_type": "code",
   "execution_count": 5,
   "metadata": {},
   "outputs": [
    {
     "name": "stdout",
     "output_type": "stream",
     "text": [
      "Limited Warehouse Expansion 4.0\n",
      "Extensive Warehouse Expansion 6.0\n",
      "Test Market New Product 10.5\n",
      "Advertising Campaign 4.0\n",
      "Basic Research 8.0\n",
      "Purchase New Equipment 3.0\n"
     ]
    }
   ],
   "source": [
    "# create objective function\n",
    "tot_npv = mymodel.Objective()\n",
    "tot_npv.SetMaximization()\n",
    "for j in range(len(project)):\n",
    "    tot_npv.SetCoefficient(select[j], npv[j])\n",
    "\n",
    "#display objective function\n",
    "for j in range(len(project)):\n",
    "    print(select[j], tot_npv.GetCoefficient(select[j]))"
   ]
  },
  {
   "cell_type": "code",
   "execution_count": 6,
   "metadata": {},
   "outputs": [],
   "source": [
    "# create constraints\n",
    "constr = list(range(len(year)))\n",
    "for i in range(len(year)):\n",
    "    constr[i] = mymodel.Constraint(0, budget[i])\n",
    "    for j in range(len(project)):\n",
    "        constr[i].SetCoefficient(select[j], cap_req[i][j])\n",
    "    "
   ]
  },
  {
   "cell_type": "code",
   "execution_count": 7,
   "metadata": {},
   "outputs": [
    {
     "name": "stdout",
     "output_type": "stream",
     "text": [
      "Solution Status = 0\n",
      "Number of variables = 6\n",
      "Number of constraints = 3\n",
      "Optimal Solution:\n",
      "Optimal Value = 17.50\n",
      "Test Market New Product 1.00\n",
      "Advertising Campaign 1.00\n",
      "Purchase New Equipment 1.00\n"
     ]
    }
   ],
   "source": [
    "# Solve the model and print optimal solution\n",
    "status = mymodel.Solve()                 # solve mymodel and display the solution\n",
    "\n",
    "print('Solution Status =', status)\n",
    "print('Number of variables =', mymodel.NumVariables())\n",
    "print('Number of constraints =', mymodel.NumConstraints())\n",
    "\n",
    "print('Optimal Solution:')\n",
    "\n",
    "# The objective value of the solution.\n",
    "print('Optimal Value = %.2f' % tot_npv.Value())\n",
    "\n",
    "# Display optimal solution\n",
    "for j in range(len(project)):\n",
    "    if select[j].solution_value() == 1:\n",
    "        print('%s %4.2f' % (project[j], select[j].solution_value()))"
   ]
  },
  {
   "cell_type": "code",
   "execution_count": 8,
   "metadata": {
    "scrolled": true
   },
   "outputs": [
    {
     "name": "stdout",
     "output_type": "stream",
     "text": [
      "Constraint \t LHS \t RHS \t Slack\n",
      "      Year1 \t 9.0 \t 10.5 \t  1.5\n",
      "      Year2 \t 6.0 \t 7.0 \t  1.0\n",
      "      Year3 \t 7.7 \t 8.8 \t  1.0\n"
     ]
    }
   ],
   "source": [
    "# display constraint information\n",
    "print('Constraint \\t LHS \\t RHS \\t Slack')\n",
    "LHS = mymodel.ComputeConstraintActivities()\n",
    "for i in range(len(year)):\n",
    "    slack = budget[i] - LHS[i]\n",
    "    print('%11s \\t %3.1f \\t %3.1f \\t %4.1f' % (year[i], LHS[i], budget[i], slack))"
   ]
  },
  {
   "cell_type": "code",
   "execution_count": 10,
   "metadata": {},
   "outputs": [
    {
     "name": "stdout",
     "output_type": "stream",
     "text": [
      "3 [-1, 1, -1, -1, 1, 1]\n"
     ]
    }
   ],
   "source": [
    "# b. Alternative to the optimal example \n",
    "# store coefficients and RHS for cut constraint\n",
    "# -select[0] - select[1] - select[2] + select[3] + select[4] <=2-1\n",
    "# 0-1-0+1+1<=1\n",
    "a = list()\n",
    "M = 0\n",
    "\n",
    "for i in range(len(select)):\n",
    "    if select[i].solution_value() == 1:\n",
    "        a.append(1)\n",
    "        M+=1\n",
    "    elif select[i].solution_value() == 0:\n",
    "        a.append(-1)\n",
    "print(M, a)"
   ]
  },
  {
   "cell_type": "code",
   "execution_count": 11,
   "metadata": {},
   "outputs": [
    {
     "name": "stdout",
     "output_type": "stream",
     "text": [
      "Optimal Value = 15.0\n",
      "\t Advertising Campaign   1.00\n",
      "\t Basic Research   1.00\n",
      "\t Purchase New Equipment   1.00\n"
     ]
    }
   ],
   "source": [
    "#add cut constraint\n",
    "cut_constr = mymodel.Constraint(-mymodel.infinity(), M-1)\n",
    "for i in range(len(project)):\n",
    "    cut_constr.SetCoefficient(select[i], a[i])\n",
    "\n",
    "    \n",
    "#re-optimize and display next solution\n",
    "mymodel.Solve()\n",
    "print('Optimal Value =', tot_npv.Value())\n",
    "for i in range(len(project)):\n",
    "    if select[i].solution_value() == 1:\n",
    "        print('\\t %7s %6.2f' % (project[i], select[i].solution_value())) \n",
    "            \n",
    "# relax cut constraint\n",
    "cut_constr.SetBounds(-mymodel.infinity(),mymodel.infinity())"
   ]
  },
  {
   "cell_type": "code",
   "execution_count": null,
   "metadata": {},
   "outputs": [],
   "source": [
    "#Restart the kernel\n",
    "#Run this separately from the "
   ]
  },
  {
   "cell_type": "code",
   "execution_count": 9,
   "metadata": {},
   "outputs": [
    {
     "name": "stdout",
     "output_type": "stream",
     "text": [
      "17.0\n",
      "Extensive Warehouse Expansion 1.00\n",
      "Basic Research 1.00\n",
      "Purchase New Equipment 1.00\n"
     ]
    }
   ],
   "source": [
    "#c. Cannot choose both Test Market and Advertising campsaign\n",
    "# select[2] + selectp[3] <= 1\n",
    "new_constr2 = mymodel.Constraint(0, 1)\n",
    "new_constr2.SetCoefficient(select[2], 1)\n",
    "new_constr2.SetCoefficient(select[3], 1)\n",
    "mymodel.Solve()\n",
    "print(tot_npv.Value())\n",
    "# Display optimal solution\n",
    "for j in range(len(project)):\n",
    "    if select[j].solution_value() == 1:\n",
    "        print('%s %4.2f' % (project[j], select[j].solution_value()))\n",
    "    "
   ]
  },
  {
   "cell_type": "code",
   "execution_count": null,
   "metadata": {},
   "outputs": [],
   "source": []
  },
  {
   "cell_type": "code",
   "execution_count": null,
   "metadata": {},
   "outputs": [],
   "source": []
  }
 ],
 "metadata": {
  "kernelspec": {
   "display_name": "Python 3",
   "language": "python",
   "name": "python3"
  },
  "language_info": {
   "codemirror_mode": {
    "name": "ipython",
    "version": 3
   },
   "file_extension": ".py",
   "mimetype": "text/x-python",
   "name": "python",
   "nbconvert_exporter": "python",
   "pygments_lexer": "ipython3",
   "version": "3.7.6"
  }
 },
 "nbformat": 4,
 "nbformat_minor": 2
}
