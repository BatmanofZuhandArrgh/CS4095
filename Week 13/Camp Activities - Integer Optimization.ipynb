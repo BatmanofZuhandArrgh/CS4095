{
 "cells": [
  {
   "cell_type": "code",
   "execution_count": 1,
   "metadata": {},
   "outputs": [],
   "source": [
    "# import Glop linear solver package\n",
    "from ortools.linear_solver import pywraplp as glp"
   ]
  },
  {
   "cell_type": "code",
   "execution_count": 2,
   "metadata": {},
   "outputs": [],
   "source": [
    "# model parameters\n",
    "project = ['Painting', 'Drawing', 'Nature craft', 'Rhythm band', 'Relay races', 'Basketball', 'Internet', 'Creative writing', 'Games']\n",
    "time = [30,20,30,20,45,60,45,30,40]\n",
    "campersPop = [4,5,3,5,2,1,1,4,1]\n",
    "counselorsPop = [2,2,1,5,1,3,1,3,2]\n"
   ]
  },
  {
   "cell_type": "code",
   "execution_count": 3,
   "metadata": {},
   "outputs": [],
   "source": [
    "# initialize model object\n",
    "mymodel = glp.Solver('Capital Budget', glp.Solver.CBC_MIXED_INTEGER_PROGRAMMING)\n",
    "\n"
   ]
  },
  {
   "cell_type": "code",
   "execution_count": 4,
   "metadata": {},
   "outputs": [
    {
     "name": "stdout",
     "output_type": "stream",
     "text": [
      "select =  [Painting, Drawing, Nature craft, Rhythm band, Relay races, Basketball, Internet, Creative writing, Games]\n"
     ]
    }
   ],
   "source": [
    "# create decision variables\n",
    "select = list(range(len(project)))\n",
    "for j in range(len(project)):\n",
    "    select[j] = mymodel.IntVar(0,1, project[j])\n",
    "    \n",
    "print('select = ', select)"
   ]
  },
  {
   "cell_type": "code",
   "execution_count": 5,
   "metadata": {},
   "outputs": [
    {
     "name": "stdout",
     "output_type": "stream",
     "text": [
      "Painting 6.0\n",
      "Drawing 7.0\n",
      "Nature craft 4.0\n",
      "Rhythm band 10.0\n",
      "Relay races 3.0\n",
      "Basketball 4.0\n",
      "Internet 2.0\n",
      "Creative writing 7.0\n",
      "Games 3.0\n"
     ]
    }
   ],
   "source": [
    "# create objective function\n",
    "tot_npv = mymodel.Objective()\n",
    "tot_npv.SetMaximization()\n",
    "for j in range(len(project)):\n",
    "    tot_npv.SetCoefficient(select[j], campersPop[j]+counselorsPop[j])\n",
    "\n",
    "#display objective function\n",
    "for j in range(len(project)):\n",
    "    print(select[j], tot_npv.GetCoefficient(select[j]))"
   ]
  },
  {
   "cell_type": "code",
   "execution_count": 6,
   "metadata": {},
   "outputs": [],
   "source": [
    "# create constraints\n",
    "constr = list()\n",
    "#a. At most one art activity can be done.\n",
    "constr.append(mymodel.Constraint(0,1))\n",
    "constr[0].SetCoefficient(select[0], 1)\n",
    "constr[0].SetCoefficient(select[1], 1)\n",
    "constr[0].SetCoefficient(select[2], 1)\n",
    "    "
   ]
  },
  {
   "cell_type": "code",
   "execution_count": 7,
   "metadata": {},
   "outputs": [],
   "source": [
    "#b. No more than two computer activities can be done.\n",
    "constr.append(mymodel.Constraint(0,2))\n",
    "constr[1].SetCoefficient(select[6], 1)\n",
    "constr[1].SetCoefficient(select[7], 1)\n",
    "constr[1].SetCoefficient(select[8], 1)\n",
    "    "
   ]
  },
  {
   "cell_type": "code",
   "execution_count": 8,
   "metadata": {},
   "outputs": [],
   "source": [
    "#c. If basketball is chosen, then rhythm band must be chosen.\n",
    "constr.append(mymodel.Constraint(0,0))\n",
    "constr[2].SetCoefficient(select[3], -1)\n",
    "constr[2].SetCoefficient(select[5], 1)\n"
   ]
  },
  {
   "cell_type": "code",
   "execution_count": 9,
   "metadata": {},
   "outputs": [],
   "source": [
    "#d. At least 120 minutes of activities must be selected\n",
    "#e. No more than 165 minutes of activities may be selected.\n",
    "constr.append(mymodel.Constraint(120,165))\n",
    "for i in range(len(project)):\n",
    "    constr[3].SetCoefficient(select[i], time[i])\n"
   ]
  },
  {
   "cell_type": "code",
   "execution_count": 10,
   "metadata": {},
   "outputs": [],
   "source": [
    "#f. To keep the staff happy, the counselor rating should be no higher than 10.\n",
    "constr.append(mymodel.Constraint(0,10))\n",
    "for i in range(len(project)):\n",
    "    constr[4].SetCoefficient(select[i], counselorsPop[i])\n",
    "    "
   ]
  },
  {
   "cell_type": "code",
   "execution_count": 11,
   "metadata": {},
   "outputs": [
    {
     "name": "stdout",
     "output_type": "stream",
     "text": [
      "Solution Status = 0\n",
      "Number of variables = 9\n",
      "Number of constraints = 5\n",
      "Optimal Solution:\n",
      "Optimal Value = 21.00\n",
      "Painting 0.00\n",
      "Drawing 0.00\n",
      "Nature craft 1.00\n",
      "Rhythm band 1.00\n",
      "Relay races 1.00\n",
      "Basketball 1.00\n",
      "Internet 0.00\n",
      "Creative writing 0.00\n",
      "Games 0.00\n"
     ]
    }
   ],
   "source": [
    "# Solve the model and print optimal solution\n",
    "status = mymodel.Solve()                 # solve mymodel and display the solution\n",
    "\n",
    "print('Solution Status =', status)\n",
    "print('Number of variables =', mymodel.NumVariables())\n",
    "print('Number of constraints =', mymodel.NumConstraints())\n",
    "\n",
    "print('Optimal Solution:')\n",
    "\n",
    "# The objective value of the solution.\n",
    "print('Optimal Value = %.2f' % tot_npv.Value())\n",
    "\n",
    "# Display optimal solution\n",
    "for j in range(len(project)):\n",
    "    print('%s %4.2f' % (project[j], select[j].solution_value()))"
   ]
  },
  {
   "cell_type": "code",
   "execution_count": 12,
   "metadata": {},
   "outputs": [
    {
     "name": "stdout",
     "output_type": "stream",
     "text": [
      "4 [-1, -1, 1, 1, 1, 1, -1, -1, -1]\n"
     ]
    }
   ],
   "source": [
    "# store coefficients and RHS for cut constraint\n",
    "# -select[0] - select[1] - select[2] + select[3] + select[4] <=2-1\n",
    "# 0-1-0+1+1<=1\n",
    "a = list()\n",
    "M = 0\n",
    "\n",
    "for i in range(len(select)):\n",
    "    if select[i].solution_value() == 1:\n",
    "        a.append(1)\n",
    "        M+=1\n",
    "    elif select[i].solution_value() == 0:\n",
    "        a.append(-1)\n",
    "print(M, a)"
   ]
  },
  {
   "cell_type": "code",
   "execution_count": 14,
   "metadata": {},
   "outputs": [
    {
     "name": "stdout",
     "output_type": "stream",
     "text": [
      "Optimal Value = 20.0\n",
      "Drawing 1.00\n",
      "Relay races 1.00\n",
      "Creative writing 1.00\n",
      "Games 1.00\n"
     ]
    }
   ],
   "source": [
    "#add cut constraint\n",
    "cut_constr = mymodel.Constraint(-mymodel.infinity(), M-1)\n",
    "for i in range(len(project)):\n",
    "    cut_constr.SetCoefficient(select[i], a[i])\n",
    "\n",
    "    \n",
    "#re-optimize and display next solution\n",
    "mymodel.Solve()\n",
    "print('Optimal Value =', tot_npv.Value())\n",
    "i = 0\n",
    "for i in range(len(project)):\n",
    "    if select[i].solution_value() == 1:\n",
    "            print('%s %4.2f' % (project[i], select[i].solution_value()))\n",
    "        \n",
    "# relax cut constraint\n",
    "cut_constr.SetBounds(-mymodel.infinity(),mymodel.infinity())"
   ]
  },
  {
   "cell_type": "code",
   "execution_count": null,
   "metadata": {},
   "outputs": [],
   "source": []
  }
 ],
 "metadata": {
  "kernelspec": {
   "display_name": "Python 3",
   "language": "python",
   "name": "python3"
  },
  "language_info": {
   "codemirror_mode": {
    "name": "ipython",
    "version": 3
   },
   "file_extension": ".py",
   "mimetype": "text/x-python",
   "name": "python",
   "nbconvert_exporter": "python",
   "pygments_lexer": "ipython3",
   "version": "3.7.6"
  }
 },
 "nbformat": 4,
 "nbformat_minor": 4
}
