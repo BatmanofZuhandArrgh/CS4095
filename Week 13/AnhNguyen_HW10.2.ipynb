{
 "cells": [
  {
   "cell_type": "code",
   "execution_count": 1,
   "metadata": {},
   "outputs": [],
   "source": [
    "# import Glop linear solver package\n",
    "from ortools.linear_solver import pywraplp as glp"
   ]
  },
  {
   "cell_type": "code",
   "execution_count": 2,
   "metadata": {},
   "outputs": [],
   "source": [
    "# model parameters\n",
    "plant = ['Cleveland','Nashville','St.Louis', 'Milwaukee']\n",
    "rdc = ['Scranton','Atlanta','Reno']\n",
    "fixed_cost = [320, 175, 300, 0] # fixed cost of operating each plant in thousand $\n",
    "capacity = [30, 15, 30, 25]  # capacity of each plant in thousand units\n",
    "demand = [20, 10, 25]  # demand at each RDC in thousand units\n",
    "transp_cost = [[ 2, 6, 10],  # transportation cost per unit from Detroit to each RDC\n",
    "               [ 3, 4, 9], \n",
    "               [ 5, 9, 7],  \n",
    "               [ 5,10, 8]]  # St. Louis to RDCs"
   ]
  },
  {
   "cell_type": "code",
   "execution_count": 3,
   "metadata": {},
   "outputs": [],
   "source": [
    "# initialize model object\n",
    "mymodel = glp.Solver('Scott Office Product' ,glp.Solver.CBC_MIXED_INTEGER_PROGRAMMING)\n"
   ]
  },
  {
   "cell_type": "code",
   "execution_count": 4,
   "metadata": {},
   "outputs": [],
   "source": [
    "# create shipment variables\n",
    "ship = list(range(len(plant)))\n",
    "for i in range(len(plant)):\n",
    "    ship[i] = list(range(len(plant)))\n",
    "    for j in range(len(rdc)):\n",
    "        ship[i][j] = mymodel.NumVar(0, mymodel.infinity(), plant[i] + ' to ' + rdc[j])"
   ]
  },
  {
   "cell_type": "code",
   "execution_count": 5,
   "metadata": {},
   "outputs": [],
   "source": [
    "#create plant selection variables\n",
    "select = list(range(len(plant)))\n",
    "for i in range(len(plant)):\n",
    "    select[i] = mymodel.IntVar(0,1, plant[i])"
   ]
  },
  {
   "cell_type": "code",
   "execution_count": 6,
   "metadata": {},
   "outputs": [],
   "source": [
    "# create objective function\n",
    "tot_cost = mymodel.Objective()\n",
    "tot_cost.SetMinimization()\n",
    "\n",
    "#Shipment variables\n",
    "for i in range(len(plant)):\n",
    "    for j in range(len(rdc)):\n",
    "        tot_cost.SetCoefficient(ship[i][j], transp_cost[i][j])\n",
    "        \n",
    "#Binary Selection variables\n",
    "for i in range(len(plant)):\n",
    "    tot_cost.SetCoefficient(select[i], fixed_cost[i])"
   ]
  },
  {
   "cell_type": "code",
   "execution_count": 7,
   "metadata": {},
   "outputs": [],
   "source": [
    "# rdc demand constraints\n",
    "demand_constr = list(range(len(rdc)))\n",
    "for j in range(len(rdc)):\n",
    "    demand_constr[j] = mymodel.Constraint(demand[j], demand[j])\n",
    "    for i in range(len(plant)):\n",
    "        demand_constr[j].SetCoefficient(ship[i][j], 1)"
   ]
  },
  {
   "cell_type": "code",
   "execution_count": 8,
   "metadata": {},
   "outputs": [],
   "source": [
    "# plant supply constraints\n",
    "supply_constr = list(range(len(plant)))\n",
    "for i in range(len(plant)):\n",
    "    supply_constr[i] = mymodel.Constraint(-mymodel.infinity(), 0)\n",
    "    supply_constr[i].SetCoefficient(select[i], -capacity[i])\n",
    "    for j in range(len(rdc)):\n",
    "        supply_constr[i].SetCoefficient(ship[i][j], 1)"
   ]
  },
  {
   "cell_type": "code",
   "execution_count": 9,
   "metadata": {},
   "outputs": [
    {
     "name": "stdout",
     "output_type": "stream",
     "text": [
      "Solution Status = 0\n",
      "Number of variables = 16\n",
      "Number of constraints = 7\n",
      "Optimal Solution:\n",
      "Optimal Value = 620.000000\n"
     ]
    }
   ],
   "source": [
    "# Solve the model and print optimal solution\n",
    "status = mymodel.Solve()                 # solve mymodel and display the solution\n",
    "\n",
    "print('Solution Status =', status)\n",
    "print('Number of variables =', mymodel.NumVariables())\n",
    "print('Number of constraints =', mymodel.NumConstraints())\n",
    "\n",
    "print('Optimal Solution:')\n",
    "\n",
    "# The objective value of the solution.\n",
    "print('Optimal Value = %.6f' % tot_cost.Value())"
   ]
  },
  {
   "cell_type": "code",
   "execution_count": 10,
   "metadata": {},
   "outputs": [
    {
     "name": "stdout",
     "output_type": "stream",
     "text": [
      "Cleveland\n",
      "\t Scranton  20.00\n",
      "\t Atlanta  10.00\n",
      "Milwaukee\n",
      "\t    Reno  25.00\n"
     ]
    }
   ],
   "source": [
    "#display solution\n",
    "for i in range(len(plant)):\n",
    "    if select[i].solution_value() == 0: continue\n",
    "    print (plant[i])\n",
    "    for j in range(len(rdc)):\n",
    "        if ship[i][j].solution_value()!=0:\n",
    "            print('\\t %7s %6.2f' % (rdc[j], ship[i][j].solution_value()))"
   ]
  },
  {
   "cell_type": "code",
   "execution_count": 11,
   "metadata": {},
   "outputs": [
    {
     "name": "stdout",
     "output_type": "stream",
     "text": [
      "Constraint \t LHS \t RHS \t Slack\n",
      "  Cleveland \t 30.0 \t 30.0 \t  0.0\n",
      "  Nashville \t  0.0 \t  0.0 \t  0.0\n",
      "   St.Louis \t  0.0 \t  0.0 \t  0.0\n",
      "  Milwaukee \t 25.0 \t 25.0 \t  0.0\n"
     ]
    }
   ],
   "source": [
    "# display plant supply constraint information\n",
    "print('Constraint \\t LHS \\t RHS \\t Slack')\n",
    "LHS = mymodel.ComputeConstraintActivities()\n",
    "for i in range(len(plant)):\n",
    "    rhs = select[i].solution_value() * capacity[i]\n",
    "    lhs = LHS[i + len(rdc)] + rhs\n",
    "    slack = rhs - lhs\n",
    "    print('%11s \\t %4.1f \\t %4.1f \\t %4.1f' % (plant[i], lhs, rhs, slack))"
   ]
  },
  {
   "cell_type": "code",
   "execution_count": 15,
   "metadata": {
    "scrolled": true
   },
   "outputs": [
    {
     "data": {
      "image/png": "[encoded data removed]",
      "text/plain": [
       "<Figure size 216x216 with 1 Axes>"
      ]
     },
     "metadata": {
      "needs_background": "light"
     },
     "output_type": "display_data"
    }
   ],
   "source": [
    "import matplotlib.pyplot as plt\n",
    "\n",
    "# optimization parameter analysis: Milwaukee capacity (25,000 - 100,000)\n",
    "\n",
    "stl_cap = list(range(25, 101))\n",
    "stl_totcost = list(range(len(stl_cap)))\n",
    "\n",
    "for k in range(len(stl_cap)):\n",
    "    supply_constr[3].SetCoefficient(select[3], -stl_cap[k])\n",
    "    mymodel.Solve()\n",
    "    stl_totcost[k] = tot_cost.Value()\n",
    "supply_constr[3].SetCoefficient(select[3], -capacity[3])\n",
    "\n",
    "(fig, ax) = plt.subplots(1, 1, figsize = (3,3))\n",
    "ax.grid(True)\n",
    "ax.plot(stl_cap, stl_totcost)\n",
    "plt.show()\n",
    "#=> The plant in Milwaukee will take on more demand, and since\n",
    "# Milwaukee inherently has no fixed cost, thus it will\n",
    "#decrease the total cost of the operation.\n",
    "# By the time Milwaukee's capacity hit somewhere between 50,000 and 60,000\n",
    "#The cost will hits minimum, plateauing at 400,000, with Milwaukee taking\n",
    "# on all of the demand"
   ]
  },
  {
   "cell_type": "code",
   "execution_count": 17,
   "metadata": {},
   "outputs": [
    {
     "name": "stdout",
     "output_type": "stream",
     "text": [
      "Optimal Value = 620.0\n",
      "Cleveland\n",
      "\t Scranton  20.00\n",
      "\t Atlanta  10.00\n",
      "Milwaukee\n",
      "\t    Reno  25.00\n"
     ]
    }
   ],
   "source": [
    "#reset to original optimal solution\n",
    "mymodel.Solve()\n",
    "\n",
    "#display solution\n",
    "print('Optimal Value =', tot_cost.Value())\n",
    "for i in range(len(plant)):\n",
    "    if select[i].solution_value() == 1:\n",
    "        print(plant[i])\n",
    "        for j in range(len(rdc)):\n",
    "            if ship[i][j].solution_value() != 0:\n",
    "                print('\\t %7s %6.2f' % (rdc[j], ship[i][j].solution_value())) "
   ]
  },
  {
   "cell_type": "code",
   "execution_count": 18,
   "metadata": {},
   "outputs": [
    {
     "name": "stdout",
     "output_type": "stream",
     "text": [
      "2 [1, -1, -1, 1]\n"
     ]
    }
   ],
   "source": [
    "# store coefficients and RHS for cut constraint\n",
    "# -select[0] - select[1] - select[2] + select[3] + select[4] <=2-1\n",
    "# 0-1-0+1+1<=1\n",
    "a = list()\n",
    "M = 0\n",
    "\n",
    "for i in range(len(select)):\n",
    "    if select[i].solution_value() == 1:\n",
    "        a.append(1)\n",
    "        M+=1\n",
    "    elif select[i].solution_value() == 0:\n",
    "        a.append(-1)\n",
    "print(M, a)\n"
   ]
  },
  {
   "cell_type": "code",
   "execution_count": 19,
   "metadata": {},
   "outputs": [
    {
     "name": "stdout",
     "output_type": "stream",
     "text": [
      "Optimal Value = 670.0\n",
      "St.Louis\n",
      "\t Atlanta   5.00\n",
      "\t    Reno  25.00\n",
      "Milwaukee\n",
      "\t Scranton  20.00\n",
      "\t Atlanta   5.00\n"
     ]
    }
   ],
   "source": [
    "#add cut constraint\n",
    "cut_constr = mymodel.Constraint(-mymodel.infinity(), M-1)\n",
    "for i in range(len(plant)):\n",
    "    cut_constr.SetCoefficient(select[i], a[i])\n",
    "\n",
    "    \n",
    "#re-optimize and display next solution\n",
    "mymodel.Solve()\n",
    "print('Optimal Value =', tot_cost.Value())\n",
    "for i in range(len(plant)):\n",
    "    if select[i].solution_value() == 1:\n",
    "        print(plant[i])\n",
    "        for j in range(len(rdc)):\n",
    "            if ship[i][j].solution_value() != 0:\n",
    "                print('\\t %7s %6.2f' % (rdc[j], ship[i][j].solution_value())) \n",
    "            \n",
    "# relax cut constraint\n",
    "cut_constr.SetBounds(-mymodel.infinity(),mymodel.infinity())"
   ]
  }
 ],
 "metadata": {
  "kernelspec": {
   "display_name": "Python 3",
   "language": "python",
   "name": "python3"
  },
  "language_info": {
   "codemirror_mode": {
    "name": "ipython",
    "version": 3
   },
   "file_extension": ".py",
   "mimetype": "text/x-python",
   "name": "python",
   "nbconvert_exporter": "python",
   "pygments_lexer": "ipython3",
   "version": "3.7.6"
  }
 },
 "nbformat": 4,
 "nbformat_minor": 2
}
