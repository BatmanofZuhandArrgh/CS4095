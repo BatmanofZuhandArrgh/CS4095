{
 "cells": [
  {
   "cell_type": "code",
   "execution_count": 1,
   "metadata": {},
   "outputs": [],
   "source": [
    "# import Glop linear solver package\n",
    "from ortools.linear_solver import pywraplp as glp"
   ]
  },
  {
   "cell_type": "code",
   "execution_count": 2,
   "metadata": {},
   "outputs": [],
   "source": [
    "# input parameters\n",
    "\n",
    "Warehouse = ['Cincinnati', 'Little Rock', 'Portland']\n",
    "Region = ['NE', 'NW', 'SE', 'SW']\n",
    "Capacity = 4000\n",
    "ShippingCost = [[0.53, 0.21, 0.52, 0.41],\n",
    "                [0.31, 0.38, 0.41, 0.29],\n",
    "                [0.56, 0.32, 0.54, 0.33]]\n",
    "Demand = [2000, 3000, 3500, 5500]\n",
    "#I assume the shipping cost is per pair of jeans shipped"
   ]
  },
  {
   "cell_type": "code",
   "execution_count": 3,
   "metadata": {},
   "outputs": [],
   "source": [
    "# initialize LP model object\n",
    "mymodel = glp.Solver('Clothing Distribution', glp.Solver.GLOP_LINEAR_PROGRAMMING)\n",
    "\n"
   ]
  },
  {
   "cell_type": "code",
   "execution_count": 4,
   "metadata": {},
   "outputs": [],
   "source": [
    "# Creating list of variables\n",
    "dvar = list(range(len(Warehouse)))\n",
    "for a in range(len(Warehouse)):\n",
    "    dvar[a] = list(range(len(Region)))\n",
    "    for b in range(len(Region)):\n",
    "        dvar[a][b] = mymodel.NumVar(0, mymodel.infinity(), Warehouse[a] + \" supplying for \" + Region[b])\n"
   ]
  },
  {
   "cell_type": "code",
   "execution_count": 5,
   "metadata": {},
   "outputs": [],
   "source": [
    "# define objective function\n",
    "TotCost = mymodel.Objective()          # create objective function object\n",
    "TotCost.SetMinimization()              # set direction of optimization\n",
    "for a in range(len(Warehouse)):\n",
    "    for b in range(len(Region)):\n",
    "        TotCost.SetCoefficient(dvar[a][b], ShippingCost[a][b])\n",
    "        "
   ]
  },
  {
   "cell_type": "code",
   "execution_count": 6,
   "metadata": {},
   "outputs": [],
   "source": [
    "# define warehouse constraint\n",
    "ware_constr = list(range(len(Warehouse)))\n",
    "for i in range(len(Warehouse)):\n",
    "    ware_constr[i] = mymodel.Constraint(Capacity, Capacity, Warehouse[i])\n",
    "    for j in range(len(Region)):\n",
    "        ware_constr[i].SetCoefficient(dvar[i][j], 1)\n",
    "        "
   ]
  },
  {
   "cell_type": "code",
   "execution_count": 7,
   "metadata": {},
   "outputs": [],
   "source": [
    "# define Region constraints\n",
    "reg_constr = list(range(len(Region)))\n",
    "for j in range(len(Region)):\n",
    "    reg_constr[j] = mymodel.Constraint(0, Demand[j], Region[j])\n",
    "    for i in range(len(Warehouse)):\n",
    "        reg_constr[j].SetCoefficient(dvar[i][j], 1)\n",
    "        "
   ]
  },
  {
   "cell_type": "code",
   "execution_count": 8,
   "metadata": {},
   "outputs": [
    {
     "name": "stdout",
     "output_type": "stream",
     "text": [
      "Solution Status = 0\n",
      "Number of variables = 12\n",
      "Number of constraints = 7\n",
      "Optimal Solution:\n",
      "Total Score = 3730.00\n"
     ]
    }
   ],
   "source": [
    "# Solve the model and print optimal solution\n",
    "status = mymodel.Solve()\n",
    "print('Solution Status =', status)\n",
    "print('Number of variables =', mymodel.NumVariables())\n",
    "print('Number of constraints =', mymodel.NumConstraints())\n",
    "\n",
    "print('Optimal Solution:')\n",
    "\n",
    "# The objective value of the solution.\n",
    "print('Total Score = %.2f' % TotCost.Value())"
   ]
  },
  {
   "cell_type": "code",
   "execution_count": 9,
   "metadata": {},
   "outputs": [
    {
     "name": "stdout",
     "output_type": "stream",
     "text": [
      "NE\n",
      "Little Rock supplying for NE = 2000.00 units\n",
      "=> Region NE receives 2000.00 units\n",
      "NW\n",
      "Cincinnati supplying for NW = 3000.00 units\n",
      "=> Region NW receives 3000.00 units\n",
      "SE\n",
      "Cincinnati supplying for SE = 1000.00 units\n",
      "Little Rock supplying for SE = 500.00 units\n",
      "=> Region SE receives 1500.00 units\n",
      "SW\n",
      "Little Rock supplying for SW = 1500.00 units\n",
      "Portland supplying for SW = 4000.00 units\n",
      "=> Region SW receives 5500.00 units\n"
     ]
    }
   ],
   "source": [
    "# The value of each variable in the solution.\n",
    "for a in range(len(Region)):\n",
    "    print (Region[a])\n",
    "    total = 0\n",
    "    for b in range(len(Warehouse)): \n",
    "        if dvar[b][a].solution_value() != 0:\n",
    "            print('%s = %.2f units' % (dvar[b][a], dvar[b][a].solution_value()))\n",
    "            total += dvar[b][a].solution_value()\n",
    "    print ('=> Region %s receives %.2f units' % (Region[a], total))\n",
    "        \n"
   ]
  },
  {
   "cell_type": "code",
   "execution_count": 10,
   "metadata": {},
   "outputs": [],
   "source": [
    "#Comments:\n",
    "# All regions meet their demands, \n",
    "# except for the SE region, lacking 2000 units\n"
   ]
  },
  {
   "cell_type": "code",
   "execution_count": 11,
   "metadata": {},
   "outputs": [],
   "source": [
    "# param analysis LittleRock to SE available (0.2, 0.55)\n",
    "LR2SE_cost = list(range(20,56))\n",
    "Opt_value = list()\n",
    "for p in LR2SE_cost:\n",
    "    \n",
    "    #Changing the shipping cost per pair to ship LittleRock to SE\n",
    "    ShippingCost[1][2] = p/100\n",
    "    \n",
    "    # initialize LP model object\n",
    "    mymodel = glp.Solver('Clothing Distribution', glp.Solver.GLOP_LINEAR_PROGRAMMING)\n",
    "\n",
    "    # Creating list of variables\n",
    "    dvar = list(range(len(Warehouse)))\n",
    "    for a in range(len(Warehouse)):\n",
    "        dvar[a] = list(range(len(Region)))\n",
    "        for b in range(len(Region)):\n",
    "            dvar[a][b] = mymodel.NumVar(0, mymodel.infinity(), Warehouse[a] + \" supplying for \" + Region[b])  \n",
    "    \n",
    "    # define objective function\n",
    "    TotCost = mymodel.Objective()          # create objective function object\n",
    "    TotCost.SetMinimization()              # set direction of optimization\n",
    "    for a in range(len(Warehouse)):\n",
    "        for b in range(len(Region)):\n",
    "            TotCost.SetCoefficient(dvar[a][b], ShippingCost[a][b])\n",
    "       \n",
    "    # define warehouse constraint\n",
    "    ware_constr = list(range(len(Warehouse)))\n",
    "    for i in range(len(Warehouse)):\n",
    "        ware_constr[i] = mymodel.Constraint(Capacity, Capacity, Warehouse[i])\n",
    "        for j in range(len(Region)):\n",
    "            ware_constr[i].SetCoefficient(dvar[i][j], 1)\n",
    "      \n",
    "    \n",
    "    # define Region constraints\n",
    "    reg_constr = list(range(len(Region)))\n",
    "    for j in range(len(Region)):\n",
    "        reg_constr[j] = mymodel.Constraint(0, Demand[j], Region[j])\n",
    "        for i in range(len(Warehouse)):\n",
    "            reg_constr[j].SetCoefficient(dvar[i][j], 1)\n",
    "        \n",
    "    \n",
    "    mymodel.Solve()\n",
    "    Opt_value.append(TotCost.Value())"
   ]
  },
  {
   "cell_type": "code",
   "execution_count": 12,
   "metadata": {},
   "outputs": [
    {
     "name": "stdout",
     "output_type": "stream",
     "text": [
      "[3205.0, 3240.0, 3275.0, 3310.0, 3345.0, 3380.0, 3415.0, 3450.0, 3485.0, 3520.0, 3555.0, 3590.0, 3605.0, 3620.0, 3635.0, 3650.0, 3665.0, 3680.0, 3695.0, 3710.0, 3725.0, 3730.0, 3735.0, 3740.0, 3745.0, 3750.0, 3755.0, 3760.0, 3765.0, 3770.0, 3775.0, 3775.0, 3775.0, 3775.0, 3775.0, 3775.0]\n"
     ]
    }
   ],
   "source": [
    "print(Opt_value)"
   ]
  },
  {
   "cell_type": "code",
   "execution_count": 13,
   "metadata": {},
   "outputs": [
    {
     "data": {
      "image/png": "[encoded data removed]",
      "text/plain": [
       "<Figure size 216x216 with 1 Axes>"
      ]
     },
     "metadata": {
      "needs_background": "light"
     },
     "output_type": "display_data"
    }
   ],
   "source": [
    "import matplotlib.pyplot as plt\n",
    "fig, ax = plt.subplots(1, 1, figsize = (3,3))\n",
    "ax.grid(True)\n",
    "ax.plot(LR2SE_cost, Opt_value)\n",
    "plt.show()"
   ]
  },
  {
   "cell_type": "code",
   "execution_count": null,
   "metadata": {},
   "outputs": [],
   "source": []
  }
 ],
 "metadata": {
  "kernelspec": {
   "display_name": "Python 3",
   "language": "python",
   "name": "python3"
  },
  "language_info": {
   "codemirror_mode": {
    "name": "ipython",
    "version": 3
   },
   "file_extension": ".py",
   "mimetype": "text/x-python",
   "name": "python",
   "nbconvert_exporter": "python",
   "pygments_lexer": "ipython3",
   "version": "3.7.6"
  }
 },
 "nbformat": 4,
 "nbformat_minor": 4
}
