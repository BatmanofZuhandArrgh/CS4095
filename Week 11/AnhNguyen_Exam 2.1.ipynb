{
 "cells": [
  {
   "cell_type": "code",
   "execution_count": 2,
   "metadata": {},
   "outputs": [],
   "source": [
    "# import Glop linear solver package\n",
    "from ortools.linear_solver import pywraplp as glp"
   ]
  },
  {
   "cell_type": "code",
   "execution_count": 3,
   "metadata": {},
   "outputs": [],
   "source": [
    "# input parameters\n",
    "Investments = ['Unidyne Corp.', 'Col. Mustard Restaurant', 'First General REIT', 'Metropolitan Electric',\n",
    "               'Western Union Corp.', 'Lemonville Transit', 'Fairview Apartment Partnership']\n",
    "EAR = [0.150, 0.170, 0.175, 0.118, 0.122, 0.120, 0.220] # list of Expected Annual Return of investments\n",
    "LF = [100, 100, 100, 95, 92, 79, 0] # list of Liquidity Factors of investments\n",
    "RF = [60, 70, 75, 20, 30, 22, 50] # list of Risk Factors of investments\n",
    "maxInvest = [80000, 80000, 80000, 80000, 80000, 80000, 80000] # max amount allowed to invest\n",
    "minAverage_LiqFac = 65 # minimum weighted average liquidity factor\n",
    "maxAverage_RisFac = 55 # maximum weighted average risk factor\n",
    "minDebtInvestment = 90000 # minimum investment required in Debt category\n",
    "cash = 400000"
   ]
  },
  {
   "cell_type": "code",
   "execution_count": 4,
   "metadata": {},
   "outputs": [],
   "source": [
    "# initialize LP model object\n",
    "mymodel = glp.Solver('Optimal Portfolio', glp.Solver.GLOP_LINEAR_PROGRAMMING)"
   ]
  },
  {
   "cell_type": "code",
   "execution_count": 5,
   "metadata": {},
   "outputs": [],
   "source": [
    "# create decision variables\n",
    "invest = list(range(len(Investments)))\n",
    "for i in range(len(Investments)):\n",
    "    invest[i] = mymodel.NumVar(0, mymodel.infinity(), Investments[i])\n",
    "    # invest[i] = $ invested in investment i; where i = 0(Uni Eq.), 1(Col. Must.), 2(1st Gen REIT), 3(Met. Elec.), \n",
    "    # 4(Western), 5(Lem. Trans.), 6(Fair. Apt.)   "
   ]
  },
  {
   "cell_type": "code",
   "execution_count": 6,
   "metadata": {},
   "outputs": [],
   "source": [
    "# define objective function\n",
    "TotReturn = mymodel.Objective() # objective function: total expected return after tax\n",
    "TotReturn.SetMaximization()\n",
    "for i in range(len(Investments)):\n",
    "    TotReturn.SetCoefficient(invest[i], EAR[i])"
   ]
  },
  {
   "cell_type": "code",
   "execution_count": 7,
   "metadata": {},
   "outputs": [],
   "source": [
    "# set budget constraint\n",
    "budget_constr = mymodel.Constraint (0, cash, 'budget')\n",
    "for i in range(len(Investments)):\n",
    "    budget_constr.SetCoefficient(invest[i], 1)"
   ]
  },
  {
   "cell_type": "code",
   "execution_count": 8,
   "metadata": {},
   "outputs": [],
   "source": [
    "# set maximum investments constraints\n",
    "maxInvest_constr = list(range(len(Investments)))\n",
    "for i in range(len(Investments)):\n",
    "    maxInvest_constr[i] = mymodel.Constraint(0, maxInvest[i], 'max of ' + Investments[i])\n",
    "    maxInvest_constr[i].SetCoefficient(invest[i], 1)"
   ]
  },
  {
   "cell_type": "code",
   "execution_count": 9,
   "metadata": {},
   "outputs": [],
   "source": [
    "# set weighted liquidity factor constraint\n",
    "liquidity_constr = mymodel.Constraint(minAverage_LiqFac, mymodel.infinity(), 'liquidity')\n",
    "for i in range(len(Investments)):\n",
    "    liquidity_constr.SetCoefficient(invest[i], LF[i]/cash)"
   ]
  },
  {
   "cell_type": "code",
   "execution_count": 10,
   "metadata": {},
   "outputs": [],
   "source": [
    "# set weighted risk factor constraint\n",
    "risk_constr = mymodel.Constraint(0, maxAverage_RisFac, 'risk')\n",
    "for i in range(len(Investments)):\n",
    "    risk_constr.SetCoefficient(invest[i], RF[i]/cash)"
   ]
  },
  {
   "cell_type": "code",
   "execution_count": 11,
   "metadata": {},
   "outputs": [],
   "source": [
    "# set minimum investment for debt\n",
    "debt_constr = mymodel.Constraint(minDebtInvestment, mymodel.infinity(), 'debt')\n",
    "for i in range(3):\n",
    "    debt_constr.SetCoefficient(invest[i+3], 1)"
   ]
  },
  {
   "cell_type": "code",
   "execution_count": 12,
   "metadata": {},
   "outputs": [
    {
     "name": "stdout",
     "output_type": "stream",
     "text": [
      "Solution Status = 0\n",
      "Number of variables = 7\n",
      "Number of constraints = 11\n",
      "Optimal Solution:\n",
      "Total Return = 66555.00\n"
     ]
    }
   ],
   "source": [
    "# Solve the model and print optimal solution\n",
    "status = mymodel.Solve()                 # solve mymodel and display the solution\n",
    "\n",
    "print('Solution Status =', status)\n",
    "print('Number of variables =', mymodel.NumVariables())\n",
    "print('Number of constraints =', mymodel.NumConstraints())\n",
    "\n",
    "print('Optimal Solution:')\n",
    "\n",
    "# The objective value of the solution.\n",
    "print('Total Return = %.2f' % TotReturn.Value())"
   ]
  },
  {
   "cell_type": "code",
   "execution_count": 13,
   "metadata": {},
   "outputs": [
    {
     "name": "stdout",
     "output_type": "stream",
     "text": [
      "                 Unidyne Corp. \t 70000.00\n",
      "       Col. Mustard Restaurant \t 80000.00\n",
      "            First General REIT \t 80000.00\n",
      "         Metropolitan Electric \t 0.00\n",
      "           Western Union Corp. \t 27500.00\n",
      "            Lemonville Transit \t 62500.00\n",
      "Fairview Apartment Partnership \t 80000.00\n"
     ]
    }
   ],
   "source": [
    "# Display the investments\n",
    "for i in range(len(Investments)):\n",
    "    print('%30s \\t %.2f' % (Investments[i], invest[i].solution_value()))\n",
    "    "
   ]
  },
  {
   "cell_type": "code",
   "execution_count": null,
   "metadata": {},
   "outputs": [],
   "source": []
  }
 ],
 "metadata": {
  "kernelspec": {
   "display_name": "Python 3",
   "language": "python",
   "name": "python3"
  },
  "language_info": {
   "codemirror_mode": {
    "name": "ipython",
    "version": 3
   },
   "file_extension": ".py",
   "mimetype": "text/x-python",
   "name": "python",
   "nbconvert_exporter": "python",
   "pygments_lexer": "ipython3",
   "version": "3.7.6"
  }
 },
 "nbformat": 4,
 "nbformat_minor": 2
}
