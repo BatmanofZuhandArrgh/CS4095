{
 "cells": [
  {
   "cell_type": "code",
   "execution_count": 45,
   "metadata": {},
   "outputs": [],
   "source": [
    "# import Glop linear solver package\n",
    "from ortools.linear_solver import pywraplp as glp"
   ]
  },
  {
   "cell_type": "code",
   "execution_count": 46,
   "metadata": {},
   "outputs": [],
   "source": [
    "# initialize LP model object\n",
    "mymodel = glp.Solver('Tri-County Utilities', glp.Solver.GLOP_LINEAR_PROGRAMMING)\n",
    "Suppliers = [\"Southern Gas\", \"Northwest Gas\"]\n",
    "Supply = [500, 400]\n",
    "Counties = [\"Hamilton\", \"Butler\", \"Clermont\"]\n",
    "Demand = [400, 200, 300]\n",
    "DistUnitCost = [[10, 20, 15],\n",
    "                [12, 15, 18]]\n"
   ]
  },
  {
   "cell_type": "code",
   "execution_count": 47,
   "metadata": {
    "scrolled": true
   },
   "outputs": [],
   "source": [
    "# Creating \n",
    "dvar = list(range(len(Suppliers)))\n",
    "for a in range(len(Suppliers)):\n",
    "    dvar[a] = list(range(len(Counties)))\n",
    "    for b in range(len(Counties)):\n",
    "        dvar[a][b] = mymodel.NumVar(0, mymodel.infinity(), Suppliers[a] + \" supplying for \" + Counties[b])\n"
   ]
  },
  {
   "cell_type": "code",
   "execution_count": 48,
   "metadata": {},
   "outputs": [],
   "source": [
    "# define objective function\n",
    "TotCost = mymodel.Objective()          # create objective function object\n",
    "TotCost.SetMinimization()              # set direction of optimization\n",
    "for a in range(len(Suppliers)):\n",
    "    for b in range(len(Counties)):\n",
    "        TotCost.SetCoefficient(dvar[a][b], DistUnitCost[a][b])\n",
    "        \n",
    "        "
   ]
  },
  {
   "cell_type": "code",
   "execution_count": 49,
   "metadata": {},
   "outputs": [],
   "source": [
    "# define Suppliers constraints\n",
    "sup_constr = list(range(len(Suppliers)))\n",
    "for i in range(len(Suppliers)):\n",
    "    sup_constr[i] = mymodel.Constraint(Supply[i],Supply[i])\n",
    "    for j in range(len(Counties)):\n",
    "        sup_constr[i].SetCoefficient(dvar[i][j], 1)"
   ]
  },
  {
   "cell_type": "code",
   "execution_count": 50,
   "metadata": {},
   "outputs": [],
   "source": [
    "# define Counties constraints\n",
    "cou_constr = list(range(len(Counties)))\n",
    "for j in range(len(Counties)):\n",
    "    cou_constr[j] = mymodel.Constraint(Demand[j],Demand[j])\n",
    "    for i in range(len(Suppliers)):\n",
    "        cou_constr[j].SetCoefficient(dvar[i][j], 1)"
   ]
  },
  {
   "cell_type": "code",
   "execution_count": 51,
   "metadata": {},
   "outputs": [
    {
     "name": "stdout",
     "output_type": "stream",
     "text": [
      "Solution Status = 0\n",
      "Number of variables = 6\n",
      "Number of constraints = 5\n",
      "Optimal Solution:\n",
      "Total Score = 11900.00\n"
     ]
    }
   ],
   "source": [
    "# Solve the model and print optimal solution\n",
    "status = mymodel.Solve()\n",
    "print('Solution Status =', status)\n",
    "print('Number of variables =', mymodel.NumVariables())\n",
    "print('Number of constraints =', mymodel.NumConstraints())\n",
    "\n",
    "print('Optimal Solution:')\n",
    "\n",
    "# The objective value of the solution.\n",
    "print('Total Score = %.2f' % TotCost.Value())\n"
   ]
  },
  {
   "cell_type": "code",
   "execution_count": 52,
   "metadata": {},
   "outputs": [
    {
     "name": "stdout",
     "output_type": "stream",
     "text": [
      "Southern Gas\n",
      "Southern Gas supplying for Hamilton = 200.00 units\n",
      "Southern Gas supplying for Clermont = 300.00 units\n",
      "Northwest Gas\n",
      "Northwest Gas supplying for Hamilton = 200.00 units\n",
      "Northwest Gas supplying for Butler = 200.00 units\n"
     ]
    }
   ],
   "source": [
    "# The value of each variable in the solution.\n",
    "for a in range(len(Suppliers)):\n",
    "    print (Suppliers[a])\n",
    "    for b in range(len(Counties)): \n",
    "        if dvar[a][b].solution_value() != 0:\n",
    "            print('%s = %.2f units' % (dvar[a][b], dvar[a][b].solution_value()))\n"
   ]
  },
  {
   "cell_type": "code",
   "execution_count": null,
   "metadata": {},
   "outputs": [],
   "source": [
    "#Since the solution is optimal, the suppliers have no more units\n",
    "#of gas to supply, if the demand increases for Butler County,\n",
    "#all things stay the same, we cannot ask the SGas or NGas to supply\n",
    "#more gas. Tri-County should reach out to a new supplier"
   ]
  }
 ],
 "metadata": {
  "kernelspec": {
   "display_name": "Python 3",
   "language": "python",
   "name": "python3"
  },
  "language_info": {
   "codemirror_mode": {
    "name": "ipython",
    "version": 3
   },
   "file_extension": ".py",
   "mimetype": "text/x-python",
   "name": "python",
   "nbconvert_exporter": "python",
   "pygments_lexer": "ipython3",
   "version": "3.7.6"
  }
 },
 "nbformat": 4,
 "nbformat_minor": 4
}
