{
 "cells": [
  {
   "cell_type": "markdown",
   "metadata": {},
   "source": [
    "## HW8, Problem 1 Data"
   ]
  },
  {
   "cell_type": "code",
   "execution_count": 1,
   "metadata": {},
   "outputs": [],
   "source": [
    "# import Glop linear solver package\n",
    "from ortools.linear_solver import pywraplp as glp\n",
    "\n",
    "# each row (sublist corresponds to a single student)\n",
    "# each element of a sublist corresponds to a project\n",
    "proj = [\"Project 0\", \"Project 1\",\"Project 2\",\"Project 3\",\n",
    "       \"Project 4\",\"Project 5\",\"Project 6\",]\n",
    "    \n",
    "student = list()\n",
    "for stu in range(28):\n",
    "    student.append(\"Student \" + str(stu))\n",
    "    \n",
    "preference = [[2,5,3,2,4,4,5],\n",
    "              [1,5,1,2,2,4,5],\n",
    "              [2,5,4,4,5,5,3],\n",
    "              [2,5,3,1,5,4,4],\n",
    "              [2,4,3,1,5,5,5],\n",
    "              [5,5,2,2,2,3,5],\n",
    "              [2,5,2,3,4,5,5],\n",
    "              [2,5,3,1,3,5,4],\n",
    "              [1,5,2,3,4,5,1],\n",
    "              [3,5,4,2,3,5,5],\n",
    "              [2,5,2,2,2,2,5],\n",
    "              [1,5,1,2,2,5,4],\n",
    "              [1,4,1,2,1,4,5],\n",
    "              [1,5,1,2,2,5,4],\n",
    "              [1,5,1,1,4,5,4],\n",
    "              [2,5,3,2,4,5,3],\n",
    "              [1,5,1,2,4,3,4],\n",
    "              [3,4,2,1,3,5,4],\n",
    "              [5,4,3,5,5,4,5],\n",
    "              [5,5,1,4,5,5,1],\n",
    "              [2,5,1,1,4,5,4],\n",
    "              [1,4,4,5,2,2,3],\n",
    "              [4,5,1,1,5,5,5],\n",
    "              [1,4,1,3,5,2,3],\n",
    "              [1,3,1,2,2,4,5],\n",
    "              [2,5,4,4,5,5,3],\n",
    "              [2,4,3,2,3,5,4],\n",
    "              [3,5,3,1,4,5,5]]\n"
   ]
  },
  {
   "cell_type": "code",
   "execution_count": 2,
   "metadata": {},
   "outputs": [],
   "source": [
    "# initialize LP model object\n",
    "mymodel = glp.Solver('Consulting Projects', glp.Solver.GLOP_LINEAR_PROGRAMMING)\n",
    "\n"
   ]
  },
  {
   "cell_type": "code",
   "execution_count": 3,
   "metadata": {},
   "outputs": [],
   "source": [
    "# define decision variables\n",
    "assign = list(range(len(student)))\n",
    "for g in range(len(student)):\n",
    "    assign[g] = list(range(len(proj)))\n",
    "    for h in range(len(proj)): \n",
    "        assign[g][h] = mymodel.NumVar(0, 1, student[g] + '-' + proj[h])\n",
    "        "
   ]
  },
  {
   "cell_type": "code",
   "execution_count": 4,
   "metadata": {},
   "outputs": [],
   "source": [
    "# define objective function\n",
    "TotScore = mymodel.Objective()          # create objective function object\n",
    "TotScore.SetMaximization()              # set direction of optimization\n",
    "for a in range(len(student)):\n",
    "    for b in range(len(proj)): \n",
    "        TotScore.SetCoefficient(assign[a][b], preference[a][b])\n"
   ]
  },
  {
   "cell_type": "code",
   "execution_count": 5,
   "metadata": {},
   "outputs": [],
   "source": [
    "# define student constraints\n",
    "stu_constr = list(range(len(student)))\n",
    "for i in range(len(student)):\n",
    "    stu_constr[i] = mymodel.Constraint(1,1)\n",
    "    for j in range(len(proj)):\n",
    "        stu_constr[i].SetCoefficient(assign[i][j], 1)"
   ]
  },
  {
   "cell_type": "code",
   "execution_count": 6,
   "metadata": {},
   "outputs": [],
   "source": [
    "# define project (task) constraints\n",
    "proj_constr = list(range(len(proj)))\n",
    "for j in range(len(proj)):\n",
    "    proj_constr[j] = mymodel.Constraint(4,4)\n",
    "    for i in range(len(student)):\n",
    "        proj_constr[j].SetCoefficient(assign[i][j], 1)"
   ]
  },
  {
   "cell_type": "code",
   "execution_count": 7,
   "metadata": {},
   "outputs": [
    {
     "name": "stdout",
     "output_type": "stream",
     "text": [
      "Solution Status = 0\n",
      "Number of variables = 196\n",
      "Number of constraints = 35\n",
      "Optimal Solution:\n",
      "Total Score = 127.00\n"
     ]
    }
   ],
   "source": [
    "# Solve the model and print optimal solution\n",
    "status = mymodel.Solve()\n",
    "print('Solution Status =', status)\n",
    "print('Number of variables =', mymodel.NumVariables())\n",
    "print('Number of constraints =', mymodel.NumConstraints())\n",
    "\n",
    "print('Optimal Solution:')\n",
    "\n",
    "# The objective value of the solution.\n",
    "print('Total Score = %.2f' % TotScore.Value())\n",
    "\n"
   ]
  },
  {
   "cell_type": "code",
   "execution_count": 16,
   "metadata": {},
   "outputs": [
    {
     "name": "stdout",
     "output_type": "stream",
     "text": [
      "Student 0\n",
      "Assigned to:  Project 6\n",
      "Student 1\n",
      "Assigned to:  Project 1\n",
      "Student 2\n",
      "Assigned to:  Project 3\n",
      "Student 3\n",
      "Assigned to:  Project 4\n",
      "Student 4\n",
      "Assigned to:  Project 4\n",
      "Student 5\n",
      "Assigned to:  Project 0\n",
      "Student 6\n",
      "Assigned to:  Project 3\n",
      "Student 7\n",
      "Assigned to:  Project 2\n",
      "Student 8\n",
      "Assigned to:  Project 3\n",
      "Student 9\n",
      "Assigned to:  Project 2\n",
      "Student 10\n",
      "Assigned to:  Project 1\n",
      "Student 11\n",
      "Assigned to:  Project 5\n",
      "Student 12\n",
      "Assigned to:  Project 6\n",
      "Student 13\n",
      "Assigned to:  Project 5\n",
      "Student 14\n",
      "Assigned to:  Project 1\n",
      "Student 15\n",
      "Assigned to:  Project 5\n",
      "Student 16\n",
      "Assigned to:  Project 1\n",
      "Student 17\n",
      "Assigned to:  Project 5\n",
      "Student 18\n",
      "Assigned to:  Project 0\n",
      "Student 19\n",
      "Assigned to:  Project 0\n",
      "Student 20\n",
      "Assigned to:  Project 4\n",
      "Student 21\n",
      "Assigned to:  Project 3\n",
      "Student 22\n",
      "Assigned to:  Project 0\n",
      "Student 23\n",
      "Assigned to:  Project 4\n",
      "Student 24\n",
      "Assigned to:  Project 6\n",
      "Student 25\n",
      "Assigned to:  Project 2\n",
      "Student 26\n",
      "Assigned to:  Project 2\n",
      "Student 27\n",
      "Assigned to:  Project 6\n"
     ]
    }
   ],
   "source": [
    "# The value of each variable in the solution.\n",
    "for i in range(len(student)):\n",
    "    print (student[i])\n",
    "    for j in range(len(proj)): \n",
    "        #dvar[a][b] = mymodel.NumVar(0,1, \"Student\" + str(a) + \"Project\" + str(b))\n",
    "        if (assign[i][j].solution_value() == 1):\n",
    "            print(\"Assigned to: \", proj[j])\n"
   ]
  },
  {
   "cell_type": "code",
   "execution_count": null,
   "metadata": {},
   "outputs": [],
   "source": []
  }
 ],
 "metadata": {
  "kernelspec": {
   "display_name": "Python 3",
   "language": "python",
   "name": "python3"
  },
  "language_info": {
   "codemirror_mode": {
    "name": "ipython",
    "version": 3
   },
   "file_extension": ".py",
   "mimetype": "text/x-python",
   "name": "python",
   "nbconvert_exporter": "python",
   "pygments_lexer": "ipython3",
   "version": "3.7.6"
  }
 },
 "nbformat": 4,
 "nbformat_minor": 2
}
