{
 "cells": [
  {
   "cell_type": "code",
   "execution_count": 1,
   "metadata": {},
   "outputs": [],
   "source": [
    "from ortools.linear_solver import pywraplp as glp"
   ]
  },
  {
   "cell_type": "code",
   "execution_count": 2,
   "metadata": {},
   "outputs": [],
   "source": [
    "# input parameters\n",
    "auction = ['A1','A2', 'A3']\n",
    "shops = ['S1', 'S2']      # list of suppliers (sources)\n",
    "lots = ['L1', 'L2', 'L3', 'L4']  \n",
    "buys = 15\n",
    "sells = 10\n",
    "cost_in = [[550, 500],     \n",
    "           [600, 450],                    \n",
    "           [525, 525]]   \n",
    "cost_out = [[250, 300, 500, 400],  \n",
    "            [350, 650, 450, 450]]  "
   ]
  },
  {
   "cell_type": "code",
   "execution_count": 3,
   "metadata": {},
   "outputs": [],
   "source": [
    "# initialize LP model object\n",
    "mymodel = glp.Solver('RVW', glp.Solver.GLOP_LINEAR_PROGRAMMING)\n"
   ]
  },
  {
   "cell_type": "code",
   "execution_count": 4,
   "metadata": {},
   "outputs": [
    {
     "name": "stdout",
     "output_type": "stream",
     "text": [
      "[[A1-S1, A1-S2], [A2-S1, A2-S2], [A3-S1, A3-S2]]\n",
      "[[S1-L1, S1-L2, S1-L3, S1-L4], [S2-L1, S2-L2, S2-L3, S2-L4]]\n"
     ]
    }
   ],
   "source": [
    "# create two dimensional lists of shipment variables\n",
    "ship_in = list(range(len(auction)))\n",
    "for i in ship_in:\n",
    "    ship_in[i] = list(range(len(shops)))\n",
    "    for j in ship_in[i]:\n",
    "        ship_in[i][j] = mymodel.NumVar(0, buys, auction[i] +'-'+ shops[j])\n",
    "\n",
    "print (ship_in)\n",
    "\n",
    "ship_out = list(range(len(shops)))\n",
    "for j in ship_out:\n",
    "    ship_out[j] = list(range(len(lots)))\n",
    "    for k in ship_out[j]:\n",
    "            ship_out[j][k] = mymodel.NumVar(0, sells, shops[j] +'-'+ lots[k])\n",
    "            \n",
    "print(ship_out)"
   ]
  },
  {
   "cell_type": "code",
   "execution_count": 5,
   "metadata": {},
   "outputs": [],
   "source": [
    "# define objective function\n",
    "TotCost = mymodel.Objective()\n",
    "TotCost.SetMinimization()\n",
    "\n",
    "# set ship_in costs\n",
    "for i in range(len(ship_in)):\n",
    "    for j in range(len(ship_in[i])):\n",
    "        TotCost.SetCoefficient(ship_in[i][j], cost_in[i][j])\n",
    "\n",
    "# set ship_out costs\n",
    "for j in range(len(ship_out)):\n",
    "    for k in range(len(ship_out[j])):\n",
    "        TotCost.SetCoefficient(ship_out[j][k], cost_out[j][k])"
   ]
  },
  {
   "cell_type": "code",
   "execution_count": 6,
   "metadata": {},
   "outputs": [],
   "source": [
    "# define supplier supply constraints\n",
    "supply_constr = mymodel.Constraint(buys, buys)\n",
    "for i in range(len(auction)):\n",
    "    for j in range(len(shops)):\n",
    "        supply_constr.SetCoefficient(ship_in[i][j], 1)"
   ]
  },
  {
   "cell_type": "code",
   "execution_count": 7,
   "metadata": {},
   "outputs": [],
   "source": [
    "# define customer demand constraints\n",
    "demand_constr = mymodel.Constraint(sells, sells)\n",
    "for j in range(len(shops)):\n",
    "    for k in range(len(lots)):\n",
    "        demand_constr.SetCoefficient(ship_out[j][k], 1)\n"
   ]
  },
  {
   "cell_type": "code",
   "execution_count": 8,
   "metadata": {},
   "outputs": [],
   "source": [
    "# define flow constraints\n",
    "flow_constr = list(range(len(shops)))\n",
    "for j in range(len(flow_constr)):\n",
    "    flow_constr[j] = mymodel.Constraint(0, mymodel.infinity())\n",
    "    for i in range(len(auction)):\n",
    "        flow_constr[j].SetCoefficient(ship_in[i][j], 1)\n",
    "\n",
    "    for k in range(len(lots)):\n",
    "        flow_constr[j].SetCoefficient(ship_out[j][k], -1)"
   ]
  },
  {
   "cell_type": "code",
   "execution_count": 9,
   "metadata": {},
   "outputs": [
    {
     "name": "stdout",
     "output_type": "stream",
     "text": [
      "Solution Status = 0\n",
      "Number of variables = 14\n",
      "Number of constraints = 4\n",
      "Optimal Solution:\n",
      "Total Cost = 10000.00\n"
     ]
    }
   ],
   "source": [
    "# Solve the model and print optimal solution\n",
    "status = mymodel.Solve()                 # solve mymodel and display the solution\n",
    "\n",
    "print('Solution Status =', status)\n",
    "print('Number of variables =', mymodel.NumVariables())\n",
    "print('Number of constraints =', mymodel.NumConstraints())\n",
    "\n",
    "print('Optimal Solution:')\n",
    "\n",
    "# The objective value of the solution.\n",
    "print('Total Cost = %.2f' % TotCost.Value())"
   ]
  },
  {
   "cell_type": "code",
   "execution_count": 10,
   "metadata": {},
   "outputs": [
    {
     "name": "stdout",
     "output_type": "stream",
     "text": [
      "Shipments from auctions to shops\n",
      "        A2 to         S2 \t   5.0\n",
      "        A3 to         S1 \t  10.0\n",
      "\n",
      "Shipments from shops to lots\n",
      "        S1 to         L1 \t  10.0\n"
     ]
    }
   ],
   "source": [
    "# Display the shipments\n",
    "print ('Shipments from auctions to shops')\n",
    "for i in range(len(auction)):\n",
    "    for j in range(len(shops)):\n",
    "        if ship_in[i][j].solution_value():\n",
    "            print('%10s to %10s \\t %5.1f' % (auction[i], shops[j], ship_in[i][j].solution_value()))\n",
    "        \n",
    "print ('\\nShipments from shops to lots')       \n",
    "for j in range(len(shops)):\n",
    "    for k in range(len(lots)):\n",
    "        if ship_out[j][k].solution_value():\n",
    "            print('%10s to %10s \\t %5.1f' % (shops[j],lots[k], ship_out[j][k].solution_value()))\n",
    "            "
   ]
  },
  {
   "cell_type": "code",
   "execution_count": 11,
   "metadata": {},
   "outputs": [],
   "source": [
    "#b. Since the cars shipped from A2 only goes to S2 (which is also the cheapest)\n",
    "# S1-L1 is costing 250 per car\n",
    "# There is no lots where S2 could sell to that cost less than S1-L1\n",
    "# Therefore, there's no value to an additional purchase at A2"
   ]
  },
  {
   "cell_type": "code",
   "execution_count": null,
   "metadata": {},
   "outputs": [],
   "source": []
  }
 ],
 "metadata": {
  "kernelspec": {
   "display_name": "Python 3",
   "language": "python",
   "name": "python3"
  },
  "language_info": {
   "codemirror_mode": {
    "name": "ipython",
    "version": 3
   },
   "file_extension": ".py",
   "mimetype": "text/x-python",
   "name": "python",
   "nbconvert_exporter": "python",
   "pygments_lexer": "ipython3",
   "version": "3.7.6"
  }
 },
 "nbformat": 4,
 "nbformat_minor": 4
}
