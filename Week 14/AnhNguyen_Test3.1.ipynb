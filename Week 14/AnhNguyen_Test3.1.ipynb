{
 "cells": [
  {
   "cell_type": "code",
   "execution_count": 1,
   "metadata": {},
   "outputs": [],
   "source": [
    "# import Glop linear solver package\n",
    "from ortools.linear_solver import pywraplp as glp"
   ]
  },
  {
   "cell_type": "code",
   "execution_count": 2,
   "metadata": {},
   "outputs": [],
   "source": [
    "# model parameters\n",
    "project = ['1', '2', '3', '4', '5']\n",
    "cost = [100, 200, 150, 75, 300]\n",
    "profit = [1, 1.8, 2, 1.5, 3.6]\n",
    "\n"
   ]
  },
  {
   "cell_type": "code",
   "execution_count": 3,
   "metadata": {},
   "outputs": [],
   "source": [
    "# initialize model object\n",
    "mymodel = glp.Solver('Kloos Industry', glp.Solver.CBC_MIXED_INTEGER_PROGRAMMING)\n",
    "\n"
   ]
  },
  {
   "cell_type": "code",
   "execution_count": 4,
   "metadata": {},
   "outputs": [
    {
     "name": "stdout",
     "output_type": "stream",
     "text": [
      "select =  [1, 2, 3, 4, 5]\n"
     ]
    }
   ],
   "source": [
    "# create decision variables\n",
    "select = list(range(len(project)))\n",
    "for j in range(len(project)):\n",
    "    select[j] = mymodel.IntVar(0,1, project[j])\n",
    "    \n",
    "print('select = ', select)"
   ]
  },
  {
   "cell_type": "code",
   "execution_count": 5,
   "metadata": {},
   "outputs": [
    {
     "name": "stdout",
     "output_type": "stream",
     "text": [
      "1 1.0\n",
      "2 1.8\n",
      "3 2.0\n",
      "4 1.5\n",
      "5 3.6\n"
     ]
    }
   ],
   "source": [
    "# create objective function\n",
    "tot_npv = mymodel.Objective()\n",
    "tot_npv.SetMaximization()\n",
    "for j in range(len(project)):\n",
    "    tot_npv.SetCoefficient(select[j], profit[j])\n",
    "\n",
    "#display objective function\n",
    "for j in range(len(project)):\n",
    "    print(select[j], tot_npv.GetCoefficient(select[j]))"
   ]
  },
  {
   "cell_type": "code",
   "execution_count": 6,
   "metadata": {},
   "outputs": [],
   "source": [
    "# create constraints\n",
    "constr = list()\n",
    "#i. Choose no fewer than three projects.\n",
    "constr.append(mymodel.Constraint(3,5))\n",
    "for i in range(len(project)):\n",
    "    constr[0].SetCoefficient(select[i], 1)\n",
    "    "
   ]
  },
  {
   "cell_type": "code",
   "execution_count": 7,
   "metadata": {},
   "outputs": [],
   "source": [
    "#ii. If project 3 is chosen, project 4 must be chosen.\n",
    "constr.append(mymodel.Constraint(0,0))\n",
    "constr[1].SetCoefficient(select[2], -1)\n",
    "constr[1].SetCoefficient(select[3], 1)"
   ]
  },
  {
   "cell_type": "code",
   "execution_count": 8,
   "metadata": {},
   "outputs": [],
   "source": [
    "#iii. If project 1 is chosen, project 5 must not be chosen.\n",
    "constr.append(mymodel.Constraint(0,1))\n",
    "constr[2].SetCoefficient(select[0], 1)\n",
    "constr[2].SetCoefficient(select[4], 1)"
   ]
  },
  {
   "cell_type": "code",
   "execution_count": 9,
   "metadata": {},
   "outputs": [],
   "source": [
    "#iv. The budget is 450.\n",
    "constr.append(mymodel.Constraint(0,450))\n",
    "for i in range(len(project)):\n",
    "    constr[3].SetCoefficient(select[i], cost[i])\n",
    "    "
   ]
  },
  {
   "cell_type": "code",
   "execution_count": 10,
   "metadata": {},
   "outputs": [],
   "source": [
    "#v. No more than two of projects 1, 2, and 3 can be chosen.\n",
    "constr.append(mymodel.Constraint(0,2))\n",
    "constr[4].SetCoefficient(select[0], 1)\n",
    "constr[4].SetCoefficient(select[1], 1)\n",
    "constr[4].SetCoefficient(select[2], 1)"
   ]
  },
  {
   "cell_type": "code",
   "execution_count": 11,
   "metadata": {
    "scrolled": true
   },
   "outputs": [
    {
     "name": "stdout",
     "output_type": "stream",
     "text": [
      "Solution Status = 0\n",
      "Number of variables = 5\n",
      "Number of constraints = 5\n",
      "Optimal Solution:\n",
      "Optimal Value = 5.30\n",
      "1 0.00\n",
      "2 1.00\n",
      "3 1.00\n",
      "4 1.00\n",
      "5 0.00\n"
     ]
    }
   ],
   "source": [
    "# Solve the model and print optimal solution\n",
    "status = mymodel.Solve()                 # solve mymodel and display the solution\n",
    "\n",
    "print('Solution Status =', status)\n",
    "print('Number of variables =', mymodel.NumVariables())\n",
    "print('Number of constraints =', mymodel.NumConstraints())\n",
    "\n",
    "print('Optimal Solution:')\n",
    "\n",
    "# The objective value of the solution.\n",
    "print('Optimal Value = %.2f' % tot_npv.Value())\n",
    "\n",
    "# Display optimal solution\n",
    "for j in range(len(project)):\n",
    "    print('%s %4.2f' % (project[j], select[j].solution_value()))\n",
    "    "
   ]
  },
  {
   "cell_type": "code",
   "execution_count": 13,
   "metadata": {},
   "outputs": [
    {
     "name": "stdout",
     "output_type": "stream",
     "text": [
      "3 [-1, 1, 1, 1, -1]\n"
     ]
    }
   ],
   "source": [
    "# store coefficients and RHS for cut constraint\n",
    "a = list()\n",
    "M = 0\n",
    "\n",
    "for i in range(len(select)):\n",
    "    if select[i].solution_value() == 1:\n",
    "        a.append(1)\n",
    "        M+=1\n",
    "    elif select[i].solution_value() == 0:\n",
    "        a.append(-1)\n",
    "print(M, a)"
   ]
  },
  {
   "cell_type": "code",
   "execution_count": 14,
   "metadata": {},
   "outputs": [
    {
     "name": "stdout",
     "output_type": "stream",
     "text": [
      "Optimal Value = 4.5\n",
      "1 1.00\n",
      "3 1.00\n",
      "4 1.00\n"
     ]
    }
   ],
   "source": [
    "#add cut constraint\n",
    "cut_constr = mymodel.Constraint(-mymodel.infinity(), M-1)\n",
    "for i in range(len(project)):\n",
    "    cut_constr.SetCoefficient(select[i], a[i])\n",
    "\n",
    "    \n",
    "#re-optimize and display next solution\n",
    "mymodel.Solve()\n",
    "print('Optimal Value =', tot_npv.Value())\n",
    "i = 0\n",
    "for i in range(len(project)):\n",
    "    if select[i].solution_value() == 1:\n",
    "            print('%s %4.2f' % (project[i], select[i].solution_value()))\n",
    "        \n",
    "# relax cut constraint\n",
    "cut_constr.SetBounds(-mymodel.infinity(),mymodel.infinity())"
   ]
  },
  {
   "cell_type": "code",
   "execution_count": null,
   "metadata": {},
   "outputs": [],
   "source": []
  }
 ],
 "metadata": {
  "kernelspec": {
   "display_name": "Python 3",
   "language": "python",
   "name": "python3"
  },
  "language_info": {
   "codemirror_mode": {
    "name": "ipython",
    "version": 3
   },
   "file_extension": ".py",
   "mimetype": "text/x-python",
   "name": "python",
   "nbconvert_exporter": "python",
   "pygments_lexer": "ipython3",
   "version": "3.7.6"
  }
 },
 "nbformat": 4,
 "nbformat_minor": 4
}
