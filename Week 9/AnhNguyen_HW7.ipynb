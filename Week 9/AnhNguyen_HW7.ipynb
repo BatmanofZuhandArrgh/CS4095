{
 "cells": [
  {
   "cell_type": "code",
   "execution_count": 65,
   "metadata": {},
   "outputs": [],
   "source": [
    "# import Glop linear solver package\n",
    "from ortools.linear_solver import pywraplp as glp"
   ]
  },
  {
   "cell_type": "code",
   "execution_count": 66,
   "metadata": {},
   "outputs": [],
   "source": [
    "# input parameters\n",
    "Machine = ['Machine 1', 'Machine 2']  # list of subcontractors (agents)\n",
    "Product = ['Product 1', 'Product 2', 'Product 3']  # list of projects (tasks)\n",
    "hourcost = [[0.5, 2, 0.75],   # assignment costs - Machine 1                 \n",
    "        [1, 1, 0.5] ]   # Machine 2\n",
    "profit = [30, 50, 20]\n",
    "LaborHrsConstraint = 100\n",
    "MachineHrsConstraint = 40\n",
    "PercentageConstraint1 = [(-0.5), 0.5, 0.5]\n",
    "PercentageConstraint3 = [0.2, 0.2, (-0.8)]"
   ]
  },
  {
   "cell_type": "code",
   "execution_count": 67,
   "metadata": {},
   "outputs": [],
   "source": [
    "# initialize LP model object\n",
    "mymodel = glp.Solver('BetterProductionsInc', glp.Solver.GLOP_LINEAR_PROGRAMMING)"
   ]
  },
  {
   "cell_type": "code",
   "execution_count": 68,
   "metadata": {},
   "outputs": [],
   "source": [
    "# define decision variables\n",
    "dvar = list(range(len(Product)))         # create a list to store one variable for each product\n",
    "\n",
    "for i in range(len(Product)):\n",
    "    dvar[i] = mymodel.NumVar(0, mymodel.infinity(), Product[i])\n"
   ]
  },
  {
   "cell_type": "code",
   "execution_count": 69,
   "metadata": {},
   "outputs": [],
   "source": [
    "# define objective function\n",
    "TotProfit = mymodel.Objective()          # create objective function object\n",
    "TotProfit.SetMaximization()              # set direction of optimization\n",
    "for j in range(len(Product)):\n",
    "    TotProfit.SetCoefficient(dvar[j], profit[j])"
   ]
  },
  {
   "cell_type": "code",
   "execution_count": 70,
   "metadata": {},
   "outputs": [],
   "source": [
    "# define constraints\n",
    "constr = list(range(5))          # create a list to store each constraint\n",
    "\n",
    "#1. Constraint with Number of units of Product 1\n",
    "constr[0] = mymodel.Constraint(0, mymodel.infinity())\n",
    "                                         # arguments: (lower bound, upper bound)\n",
    "for a in range(len(Product)):        # loop to set the constraint coefficient for each variable\n",
    "    constr[0].SetCoefficient(dvar[a], PercentageConstraint1[a]) #args: (variable, coefficient)\n",
    "p=0\n",
    "\n",
    "\n",
    "#2. Constraint with Number of units of Product 3\n",
    "constr[1] = mymodel.Constraint(-mymodel.infinity(), 0)\n",
    "                                         # arguments: (lower bound, upper bound)\n",
    "for q in range(len(Product)):        # loop to set the constraint coefficient for each variable\n",
    "    constr[1].SetCoefficient(dvar[q], PercentageConstraint3[q]) #args: (variable, coefficient)\n",
    "\n",
    "#3. Constraint with machine hours\n",
    "for w in range(len(Machine)):               # loop to create each constraint\n",
    "    constr[w+2] = mymodel.Constraint(-mymodel.infinity(), MachineHrsConstraint)\n",
    "                                         # arguments: (lower bound, upper bound)\n",
    "    for p in range(len(Product)):        # loop to set the constraint coefficient for each variable\n",
    "        constr[w+2].SetCoefficient(dvar[p], hourcost[w][p]) #args: (variable, coefficient)\n",
    "p = 0\n",
    "\n",
    "#4. Constraints with labor hours\n",
    "constr[4] = mymodel.Constraint(-mymodel.infinity(), LaborHrsConstraint)\n",
    "                                         # arguments: (lower bound, upper bound)\n",
    "for p in range(len(Product)):        # loop to set the constraint coefficient for each variable\n",
    "    constr[4].SetCoefficient(dvar[p], (2*hourcost[0][p] + hourcost[1][p])) #args: (variable, coefficient)\n",
    "p = 0\n",
    "    "
   ]
  },
  {
   "cell_type": "code",
   "execution_count": 71,
   "metadata": {},
   "outputs": [
    {
     "name": "stdout",
     "output_type": "stream",
     "text": [
      "Solution Status = 0\n",
      "Number of variables = 3\n",
      "Number of constraints = 5\n",
      "Optimal Solution:\n",
      "Total Profit = 1250.00\n",
      "Product 1 = 25.00\n",
      "Product 2 = 0.00\n",
      "Product 3 = 25.00\n"
     ]
    }
   ],
   "source": [
    "# Solve the model and print optimal solution\n",
    "status = mymodel.Solve()\n",
    "print('Solution Status =', status)\n",
    "print('Number of variables =', mymodel.NumVariables())\n",
    "print('Number of constraints =', mymodel.NumConstraints())\n",
    "\n",
    "print('Optimal Solution:')\n",
    "\n",
    "# The objective value of the solution.\n",
    "print('Total Profit = %.2f' % TotProfit.Value())\n",
    "\n",
    "# The value of each variable in the solution.\n",
    "for c in range(len(Product)):\n",
    "    print('%s = %.2f' % (Product[c], dvar[c].solution_value()))"
   ]
  },
  {
   "cell_type": "code",
   "execution_count": 77,
   "metadata": {},
   "outputs": [
    {
     "name": "stdout",
     "output_type": "stream",
     "text": [
      "Constraint \t \t LHS \t RHS \t Slack \t Dual\n",
      "[0.0, -15.0, 31.25, 37.5, 100.0]\n",
      "ConstraintProd1 \t 0.0 \t 0.0 \t 0.0 \t -10.0\n",
      "ConstraintProd3 \t -15.0 \t 0.0 \t 15.0 \t -0.0\n",
      "Machine 1 hours \t 31.2 \t 40.0 \t 8.8 \t -0.0\n",
      "Machine 2 hours \t 37.5 \t 40.0 \t 2.5 \t -0.0\n",
      "Labor hours     \t 100.0 \t 100.0 \t 0.0 \t 12.5\n"
     ]
    }
   ],
   "source": [
    "# display constraint Information\n",
    "print('Constraint \\t \\t LHS \\t RHS \\t Slack \\t Dual')\n",
    "LHS = mymodel.ComputeConstraintActivities()\n",
    "print(LHS)\n",
    "print('%s \\t %.1f \\t %.1f \\t %.1f \\t %.1f' % ('ConstraintProd1', LHS[0], constr[0].Lb(),(constr[0].Lb() - LHS[0]), constr[0].dual_value()))\n",
    "print('%s \\t %.1f \\t %.1f \\t %.1f \\t %.1f' % ('ConstraintProd3', LHS[1], constr[1].Ub(),(constr[1].Ub() - LHS[1]), constr[1].dual_value()))\n",
    "print('%s \\t %.1f \\t %.1f \\t %.1f \\t %.1f' % ('Machine 1 hours', LHS[2], constr[2].Ub(),(constr[2].Ub() - LHS[2]), constr[2].dual_value()))\n",
    "print('%s \\t %.1f \\t %.1f \\t %.1f \\t %.1f' % ('Machine 2 hours', LHS[3], constr[3].Ub(),(constr[3].Ub() - LHS[3]), constr[3].dual_value()))\n",
    "print('%s \\t %.1f \\t %.1f \\t %.1f \\t %.1f' % ('Labor hours    ', LHS[4], constr[4].Ub(),(constr[4].Ub() - LHS[4]), constr[4].dual_value()))\n",
    "\n",
    "    \n",
    "    "
   ]
  },
  {
   "cell_type": "code",
   "execution_count": 78,
   "metadata": {},
   "outputs": [],
   "source": [
    "#c. The value of an additional hour of labor is $12.5"
   ]
  },
  {
   "cell_type": "code",
   "execution_count": null,
   "metadata": {},
   "outputs": [],
   "source": []
  }
 ],
 "metadata": {
  "kernelspec": {
   "display_name": "Python 3",
   "language": "python",
   "name": "python3"
  },
  "language_info": {
   "codemirror_mode": {
    "name": "ipython",
    "version": 3
   },
   "file_extension": ".py",
   "mimetype": "text/x-python",
   "name": "python",
   "nbconvert_exporter": "python",
   "pygments_lexer": "ipython3",
   "version": "3.7.4"
  }
 },
 "nbformat": 4,
 "nbformat_minor": 2
}
